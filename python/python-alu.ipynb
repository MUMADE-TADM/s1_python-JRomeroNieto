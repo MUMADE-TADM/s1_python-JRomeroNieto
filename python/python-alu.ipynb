{
 "cells": [
  {
   "cell_type": "markdown",
   "metadata": {},
   "source": [
    "# Lenguaje __PYTHON 3.x__\n",
    "\n",
    "Referencia y documentación oficial [Pulsar](https://docs.python.org/es/3/index.html)"
   ]
  },
  {
   "cell_type": "markdown",
   "metadata": {},
   "source": [
    "## Variable __SIMPLES__"
   ]
  },
  {
   "cell_type": "markdown",
   "metadata": {},
   "source": [
    "### Cadenas __STRING__"
   ]
  },
  {
   "cell_type": "code",
   "execution_count": 1,
   "metadata": {},
   "outputs": [
    {
     "name": "stdout",
     "output_type": "stream",
     "text": [
      "Hola mundo\n"
     ]
    }
   ],
   "source": [
    "cadena='Hola mundo'\n",
    "print(cadena)"
   ]
  },
  {
   "cell_type": "code",
   "execution_count": 2,
   "metadata": {},
   "outputs": [
    {
     "name": "stdout",
     "output_type": "stream",
     "text": [
      "Hola  Jesús\n",
      "Hola Jesús\n"
     ]
    }
   ],
   "source": [
    "nombre=input('Ingrese su nombre: ')\n",
    "print('Hola ',nombre)\n",
    "print(f'Hola {nombre}')"
   ]
  },
  {
   "cell_type": "markdown",
   "metadata": {},
   "source": [
    "# Esto es una cabecera\n",
    "## Esto es una subcabecera"
   ]
  },
  {
   "cell_type": "code",
   "execution_count": 3,
   "metadata": {},
   "outputs": [
    {
     "name": "stdout",
     "output_type": "stream",
     "text": [
      "Jesús\n",
      "JESÚS\n",
      "jesús\n",
      "Jesús\n",
      "jESÚS\n",
      "> esto es una cadena  <\n",
      ">esto es una cadena<\n",
      "18\n"
     ]
    }
   ],
   "source": [
    "# Prime letra en mayuscula\n",
    "nombre=nombre.capitalize()\n",
    "print(nombre)\n",
    "# Todo a mayúsculas\n",
    "nombre=nombre.upper()\n",
    "print(nombre)\n",
    "# Todo a minúsculas\n",
    "nombre=nombre.lower()\n",
    "print(nombre)\n",
    "# Semejante a capitalize\n",
    "nombre=nombre.title()\n",
    "print(nombre)\n",
    "# Cambia mayusculas a minusculas y viceversa\n",
    "nombre=nombre.swapcase()\n",
    "print(nombre)\n",
    "# Elimina espacios en blanco al inicio y final de la cadena\n",
    "cadena=\" esto es una cadena  \"\n",
    "print(f'>{cadena}<')\n",
    "cadena=cadena.strip()\n",
    "print(f'>{cadena}<')\n",
    "#longitud de la cadena\n",
    "print(len(cadena))\n",
    "\n"
   ]
  },
  {
   "cell_type": "markdown",
   "metadata": {},
   "source": [
    "En la siguiente celda escriba un código de python que lea su nombre y sus apellidos y los muestre sin blancos al principio ni al final con un mensaje con el siguiente formato : \n",
    "\n",
    "**Hola** \\<Nombre\\>**, me gusta como suena** \\<Apellido\\> **como apellido**.\n",
    "\n",
    "- \\<Nombre\\> en formato con la primera letra en Mayúscula y el resto en minúsculas.\n",
    "- \\<Apellido\\> todo en mayúscula sin blancos al principio y al final.\n",
    "\n",
    "Utiliza f cadenas."
   ]
  },
  {
   "cell_type": "code",
   "execution_count": 4,
   "metadata": {},
   "outputs": [
    {
     "name": "stdout",
     "output_type": "stream",
     "text": [
      "Hola Jesus, me gusta como suena ROMERO como apellido\n"
     ]
    }
   ],
   "source": [
    "nombre=input(\"Ingrese su nombre\")\n",
    "apellido=input(\"Ingrese su apellido\")\n",
    "nombre=nombre.capitalize()\n",
    "apellido=apellido.upper().strip()\n",
    "print(f\"Hola {nombre}, me gusta como suena {apellido} como apellido\")"
   ]
  },
  {
   "cell_type": "code",
   "execution_count": 2,
   "metadata": {},
   "outputs": [
    {
     "name": "stdout",
     "output_type": "stream",
     "text": [
      "Hola mundo\n"
     ]
    }
   ],
   "source": [
    "#concatenar dos cadenas\n",
    "cadena1='Hola'\n",
    "cadena2=' mundo'\n",
    "cadena3= cadena1 + cadena2\n",
    "print(cadena3)"
   ]
  },
  {
   "cell_type": "markdown",
   "metadata": {},
   "source": [
    "Para saber más funcionalidades de las cadenas. [**Pulsa**](https://docs.python.org/es/3/library/string.html)"
   ]
  },
  {
   "cell_type": "markdown",
   "metadata": {},
   "source": [
    "### Números"
   ]
  },
  {
   "cell_type": "markdown",
   "metadata": {},
   "source": [
    "#### Enteros __INT__"
   ]
  },
  {
   "cell_type": "code",
   "execution_count": 5,
   "metadata": {},
   "outputs": [
    {
     "name": "stdout",
     "output_type": "stream",
     "text": [
      "45\n",
      "45\n"
     ]
    }
   ],
   "source": [
    "numero=45\n",
    "cadena4=str(numero)\n",
    "print(cadena4)\n",
    "numero=int(cadena4)\n",
    "print(numero)"
   ]
  },
  {
   "cell_type": "code",
   "execution_count": 7,
   "metadata": {},
   "outputs": [
    {
     "name": "stdout",
     "output_type": "stream",
     "text": [
      "Su edad es 23\n",
      "<class 'int'>\n",
      "Usted tiene 8395 dias de vida\n",
      "Usted tiene 725328000 segundos de vida\n",
      "Usted tiene 725328000000000000 nanosegundos de vida\n"
     ]
    }
   ],
   "source": [
    "edad=int(input('Ingrese su edad: '))\n",
    "print(f'Su edad es {edad}')\n",
    "print(type(edad))\n",
    "\n",
    "dias=365*edad\n",
    "print(f'Usted tiene {dias} dias de vida')\n",
    "\n",
    "segundos=dias*24*60*60\n",
    "print(f'Usted tiene {segundos} segundos de vida')\n",
    "\n",
    "nanosegundos=segundos*1000000000\n",
    "print(f'Usted tiene {nanosegundos} nanosegundos de vida')\n"
   ]
  },
  {
   "cell_type": "code",
   "execution_count": 8,
   "metadata": {},
   "outputs": [
    {
     "name": "stdout",
     "output_type": "stream",
     "text": [
      "Potencia 25\n",
      "Raiz cuadrada 2\n",
      "Resto 1\n"
     ]
    }
   ],
   "source": [
    "print(f'Potencia {5**2}')\n",
    "print(f'Raiz cuadrada {5 // 2}')\n",
    "print(f'Resto {5 % 2}')"
   ]
  },
  {
   "cell_type": "markdown",
   "metadata": {},
   "source": [
    "Calcula en la siguiente celda el número de semana, completas, que han trascurrido desde el nacimiento de la **Tierra** hace 4540 millones de años"
   ]
  },
  {
   "cell_type": "code",
   "execution_count": 8,
   "metadata": {},
   "outputs": [
    {
     "name": "stdout",
     "output_type": "stream",
     "text": [
      "Del nacimiento de la tierra han transcurrido 236728.57142857142 semanas\n"
     ]
    }
   ],
   "source": [
    "dias=4540*365\n",
    "semanas=dias/7\n",
    "print(f\"Del nacimiento de la tierra han transcurrido {semanas} semanas\")"
   ]
  },
  {
   "cell_type": "markdown",
   "metadata": {},
   "source": [
    "#### Reales __FLOAT__"
   ]
  },
  {
   "cell_type": "code",
   "execution_count": 9,
   "metadata": {},
   "outputs": [
    {
     "name": "stdout",
     "output_type": "stream",
     "text": [
      "3.14159265\n"
     ]
    }
   ],
   "source": [
    "real=3.14159265\n",
    "print(f'{real}')"
   ]
  },
  {
   "cell_type": "code",
   "execution_count": 11,
   "metadata": {},
   "outputs": [
    {
     "name": "stdout",
     "output_type": "stream",
     "text": [
      "3.3333333333333335\n",
      "3.33\n"
     ]
    }
   ],
   "source": [
    "real=10/3\n",
    "print(f'{real}')\n",
    "print(f'{real:.2f}')"
   ]
  },
  {
   "cell_type": "code",
   "execution_count": 12,
   "metadata": {},
   "outputs": [
    {
     "name": "stdout",
     "output_type": "stream",
     "text": [
      "El valor en dólares es: 1.18\n"
     ]
    }
   ],
   "source": [
    "#Cotización de dólares\n",
    "dolares=float(input(\"Ingrese el valor en euros: \"))\n",
    "print(f'El valor en dólares es: {dolares*1.18:.2f}')"
   ]
  },
  {
   "cell_type": "code",
   "execution_count": 14,
   "metadata": {},
   "outputs": [
    {
     "name": "stdout",
     "output_type": "stream",
     "text": [
      "La suma es: 12.5\n",
      "La resta es: -1.0999999999999996\n",
      "La multiplicación es: 38.76\n",
      "La división es: 0.8382352941176471\n",
      "La división entera es: 0.0\n",
      "La resto es: 5.7\n",
      "La potencia es: 138022.22320829576\n"
     ]
    }
   ],
   "source": [
    "#float operadores\n",
    "numero1=float(input('Ingrese el primer número: '))\n",
    "numero2=float(input('Ingrese el segundo número: '))\n",
    "print(f'La suma es: {numero1+numero2}')\n",
    "print(f'La resta es: {numero1-numero2}')\n",
    "print(f'La multiplicación es: {numero1*numero2}')\n",
    "print(f'La división es: {numero1/numero2}')\n",
    "print(f'La división entera es: {numero1//numero2}')\n",
    "print(f'La resto es: {numero1%numero2}')\n",
    "print(f'La potencia es: {numero1**numero2}')\n"
   ]
  },
  {
   "cell_type": "markdown",
   "metadata": {},
   "source": [
    "El la siguiente celda calcula el área de un círculo, en m^2, pidiendo el radio del mismo en mm.\n",
    "\n",
    "Muestra el resultado con 2 decimales."
   ]
  },
  {
   "cell_type": "code",
   "execution_count": null,
   "metadata": {},
   "outputs": [],
   "source": []
  },
  {
   "cell_type": "markdown",
   "metadata": {},
   "source": [
    "### Lógicas __BOOL__"
   ]
  },
  {
   "cell_type": "code",
   "execution_count": 16,
   "metadata": {},
   "outputs": [
    {
     "name": "stdout",
     "output_type": "stream",
     "text": [
      "Y:True\n",
      "Y:False\n",
      "O:True\n",
      "O:True\n",
      "NO:False\n",
      "NO:True\n"
     ]
    }
   ],
   "source": [
    "Verdadero=True\n",
    "Falso=False\n",
    "\n",
    "print(f'Y:{Verdadero and Verdadero}')\n",
    "print(f'Y:{Verdadero and Falso}')\n",
    "print(f'O:{Verdadero or Falso}')\n",
    "print(f'O:{Verdadero or Verdadero}')\n",
    "print(f'NO:{not Verdadero}')\n",
    "print(f'NO:{not Falso}')\n"
   ]
  },
  {
   "cell_type": "code",
   "execution_count": 16,
   "metadata": {},
   "outputs": [
    {
     "name": "stdout",
     "output_type": "stream",
     "text": [
      "24 es mayor que 36: False\n",
      "24 es menor que 36: True\n",
      "24 es mayor o igual que 36: False\n",
      "24 es menor o igual que 36: True\n",
      "24 es igual que 36: False\n",
      "24 es diferente que 36: True\n"
     ]
    }
   ],
   "source": [
    "#Operadores de comparación con números\n",
    "numero1= int(input('Ingrese el primer número: '))\n",
    "numero2= int(input('Ingrese el segundo número: '))\n",
    "print(f'{numero1} es mayor que {numero2}: {numero1>numero2}')\n",
    "print(f'{numero1} es menor que {numero2}: {numero1<numero2}')\n",
    "print(f'{numero1} es mayor o igual que {numero2}: {numero1>=numero2}')\n",
    "print(f'{numero1} es menor o igual que {numero2}: {numero1<=numero2}')\n",
    "print(f'{numero1} es igual que {numero2}: {numero1==numero2}')  \n",
    "print(f'{numero1} es diferente que {numero2}: {numero1!=numero2}')"
   ]
  },
  {
   "cell_type": "code",
   "execution_count": 20,
   "metadata": {},
   "outputs": [
    {
     "name": "stdout",
     "output_type": "stream",
     "text": [
      "Jesus es mayor que Romero: False\n",
      "Jesus es menor que Romero: True\n",
      "Jesus es mayor o igual que Romero: False\n",
      "Jesus es menor o igual que Romero: True\n",
      "Jesus es igual que Romero: False\n",
      "Jesus es diferente que Romero: True\n"
     ]
    }
   ],
   "source": [
    "#Operadores de comparación con cadenas\n",
    "cadena1=input('Ingrese la primera cadena: ')\n",
    "cadena2=input('Ingrese la segunda cadena: ')\n",
    "print(f'{cadena1} es mayor que {cadena2}: {cadena1>cadena2}')\n",
    "print(f'{cadena1} es menor que {cadena2}: {cadena1<cadena2}')\n",
    "print(f'{cadena1} es mayor o igual que {cadena2}: {cadena1>=cadena2}')\n",
    "print(f'{cadena1} es menor o igual que {cadena2}: {cadena1<=cadena2}')\n",
    "print(f'{cadena1} es igual que {cadena2}: {cadena1==cadena2}')\n",
    "print(f'{cadena1} es diferente que {cadena2}: {cadena1!=cadena2}')"
   ]
  },
  {
   "cell_type": "markdown",
   "metadata": {},
   "source": [
    "## Variables __COMPUESTAS__"
   ]
  },
  {
   "cell_type": "markdown",
   "metadata": {},
   "source": [
    "### Listas __LIST__"
   ]
  },
  {
   "cell_type": "code",
   "execution_count": 21,
   "metadata": {},
   "outputs": [
    {
     "name": "stdout",
     "output_type": "stream",
     "text": [
      "['Hola', 'mundo', 'como', 'estas']\n",
      "Hola\n",
      "mundo\n",
      "\n",
      "\n",
      "estas\n",
      "como\n",
      "\n",
      "Hola\n",
      "[]\n"
     ]
    }
   ],
   "source": [
    "lista=['Hola','mundo','como','estas']\n",
    "print(lista)\n",
    "print(lista[0])\n",
    "print(lista[1])\n",
    "print()\n",
    "print()\n",
    "print(lista[-1])\n",
    "print(lista[-2])\n",
    "print()\n",
    "print(lista[-4])\n",
    "\n",
    "#Establecer una lista vacía\n",
    "lista=[]\n",
    "print(lista)\n",
    "\n"
   ]
  },
  {
   "cell_type": "code",
   "execution_count": 22,
   "metadata": {},
   "outputs": [
    {
     "name": "stdout",
     "output_type": "stream",
     "text": [
      "['Hola', 'mundo', 'como', 'estas']\n",
      "['Hola mundo', 'mundo', 'como', 'estas']\n"
     ]
    }
   ],
   "source": [
    "#Cambiar un valor de una lista\n",
    "lista=['Hola','mundo','como','estas']\n",
    "print(lista)\n",
    "lista[0]=\"Hola mundo\"\n",
    "print(lista)"
   ]
  },
  {
   "cell_type": "markdown",
   "metadata": {},
   "source": [
    "Slice de una lista identifica una sublista\n",
    "\n",
    "lista[\\<indx inferior\\>:\\<indx superios -1\\>]"
   ]
  },
  {
   "cell_type": "code",
   "execution_count": 23,
   "metadata": {},
   "outputs": [
    {
     "name": "stdout",
     "output_type": "stream",
     "text": [
      "['Hola', 'mundo', 'como', 'estas']\n",
      "elementos 0 y 1 :['Hola', 'mundo']\n",
      "elementos 2 y 3 :['como', 'estas']\n",
      "Invertida ['estas', 'como', 'mundo', 'Hola']\n"
     ]
    }
   ],
   "source": [
    "#Rodajas de una lista\n",
    "lista=['Hola','mundo','como','estas']\n",
    "print(lista)\n",
    "print(f'elementos 0 y 1 :{lista[0:2]}')\n",
    "print(f'elementos 2 y 3 :{lista[2:4] }')\n",
    "print(f'Invertida {lista[::-1]}')"
   ]
  },
  {
   "cell_type": "code",
   "execution_count": 24,
   "metadata": {},
   "outputs": [
    {
     "name": "stdout",
     "output_type": "stream",
     "text": [
      "['Hola', 'mundo', 'como', 'estas']\n",
      "['Hola', 'mundo', 'como', 'estas', 'nuevo']\n",
      "['nuevo', 'Hola', 'mundo', 'como', 'estas', 'nuevo']\n"
     ]
    }
   ],
   "source": [
    "#Agregar elementos a una lista\n",
    "lista=['Hola','mundo','como','estas']\n",
    "print(lista)\n",
    "lista.append(\"nuevo\")\n",
    "print(lista)\n",
    "lista.insert(0, \"nuevo\")\n",
    "print(lista)\n"
   ]
  },
  {
   "cell_type": "code",
   "execution_count": 30,
   "metadata": {},
   "outputs": [
    {
     "name": "stdout",
     "output_type": "stream",
     "text": [
      "['Hola', 'mundo', 'como', 'estas']\n",
      "['mundo', 'como', 'estas']\n",
      "['mundo', 'como']\n",
      "['como']\n"
     ]
    }
   ],
   "source": [
    "#Eliminar elementos de una lista\n",
    "lista=['Hola','mundo','como','estas']\n",
    "print(lista)\n",
    "lista.remove(\"Hola\")\n",
    "print(lista)\n",
    "lista.pop()\n",
    "print(lista)\n",
    "lista.pop(0)\n",
    "print(lista)"
   ]
  },
  {
   "cell_type": "code",
   "execution_count": 29,
   "metadata": {},
   "outputs": [
    {
     "name": "stdout",
     "output_type": "stream",
     "text": [
      "[1, 2, 3, 4, 5, 6, 7, 8, 9, 10]\n",
      "['H', 'o', 'l', 'a', ' ', 'm', 'u', 'n', 'd', 'o']\n",
      "['Hola', 'mundo']\n",
      "['Hola mundo', ' ¿que crees que quiero?']\n",
      "['Hola', 'mundo', 'como', 'estas']\n"
     ]
    }
   ],
   "source": [
    "#generar una lista con números\n",
    "lista=list(range(1,11))\n",
    "print(lista)\n",
    "\n",
    "#generar una lista a partir de una cadena\n",
    "lista=list('Hola mundo')\n",
    "print(lista)\n",
    "\n",
    "#divirdir una cadena en una lista\n",
    "cadena='Hola mundo'\n",
    "lista=cadena.split()\n",
    "print(lista)\n",
    "\n",
    "cadena='Hola mundo, ¿que crees que quiero?'\n",
    "lista=cadena.split(\",\")\n",
    "print(lista)\n",
    "\n",
    "#concatenar dos listas\n",
    "lista1=['Hola','mundo']\n",
    "lista2=['como','estas']\n",
    "lista3=lista1 + lista2\n",
    "print(lista3)"
   ]
  },
  {
   "cell_type": "code",
   "execution_count": 31,
   "metadata": {},
   "outputs": [
    {
     "name": "stdout",
     "output_type": "stream",
     "text": [
      "['Hola', 'mundo', 'como', 'estas']\n",
      "['Hola', 'como', 'estas', 'mundo']\n",
      "['mundo', 'estas', 'como', 'Hola']\n"
     ]
    }
   ],
   "source": [
    "#Ordenar una lista\n",
    "lista=['Hola','mundo','como','estas']\n",
    "print(lista)\n",
    "lista.sort()\n",
    "print(lista)\n",
    "lista.reverse()\n",
    "print(lista)"
   ]
  },
  {
   "cell_type": "code",
   "execution_count": 32,
   "metadata": {},
   "outputs": [
    {
     "name": "stdout",
     "output_type": "stream",
     "text": [
      "['Hola', 'mundo', 'como', 'estas']\n",
      "['Hola', 'mundo', 'como', 'estas']\n"
     ]
    }
   ],
   "source": [
    "#Copiar una lista\n",
    "lista=['Hola','mundo','como','estas']\n",
    "print(lista)\n",
    "lista2=lista.copy()\n",
    "print(lista2)"
   ]
  },
  {
   "cell_type": "code",
   "execution_count": 19,
   "metadata": {},
   "outputs": [
    {
     "name": "stdout",
     "output_type": "stream",
     "text": [
      "['Hola', 'mundo', 'como', 'estas']\n",
      "El número de elementos es: 4\n",
      "Hola está en la lista: True\n",
      "Hola está en la lista: False\n"
     ]
    }
   ],
   "source": [
    "\n",
    "#Contar elementos de una lista\n",
    "lista=['Hola','mundo','como','estas']\n",
    "print(lista)\n",
    "print(f'El número de elementos es: {len(lista)}')\n",
    "\n",
    "#Pertenencia de un elemento en una lista\n",
    "print(f'Hola está en la lista: { (\"Hola\" in lista)}')\n",
    "print(f'Hola está en la lista: { (\"Hola\" not in lista)}')\n",
    "\n"
   ]
  },
  {
   "cell_type": "code",
   "execution_count": 20,
   "metadata": {},
   "outputs": [
    {
     "name": "stdout",
     "output_type": "stream",
     "text": [
      "['Hola', 'mundo', 'como', 'estas']\n",
      "Hola está en la lista: 1\n"
     ]
    }
   ],
   "source": [
    "#Buscar elementos de una lista\n",
    "lista=['Hola','mundo','como','estas']\n",
    "print(lista)\n",
    "print(f'Hola está en la lista: {lista.count (\"Hola\")}')"
   ]
  },
  {
   "cell_type": "code",
   "execution_count": 21,
   "metadata": {},
   "outputs": [
    {
     "name": "stdout",
     "output_type": "stream",
     "text": [
      "['Hola', 'mundo', 'como', 'estas']\n",
      "['Hola', 'mundo', 'como', 'estas']\n",
      "La lista 1 es igual a la lista 2: True\n",
      "La lista 1 es diferente a la lista 2: False\n"
     ]
    },
    {
     "name": "stderr",
     "output_type": "stream",
     "text": [
      "Bad pipe message: %s [b\"|\\ns'\\xb1C\\x1e\\x9b,\\xfa\\x0f\\xac\\x9b:\\xe9_Y\\x83 \\x97&*\\xee\\x90\\x17.d\\xa1\\x9es\\x08P\\xd0\\xf9\\xdb\\x82\\x1c\\x83\\x9d1)\\x0f\\x16\\x0f\\x89&\\x07P\\xf9\\xc4\\xb5\\x00\\x08\\x13\\x02\\x13\\x03\\x13\\x01\\x00\\xff\\x01\\x00\\x00\\x8f\\x00\\x00\\x00\\x0e\\x00\\x0c\\x00\\x00\\t127.0.0.1\\x00\\x0b\\x00\\x04\\x03\\x00\\x01\\x02\\x00\\n\\x00\\x0c\\x00\\n\\x00\\x1d\\x00\\x17\\x00\\x1e\\x00\\x19\\x00\\x18\\x00#\"]\n",
      "Bad pipe message: %s [b'\\\\\\x96\\x05\\x85\\xfeP\\x15\\x81\\xa0/\\xafgV\\x91\\x99\\xe6\\xb3l\\x00\\x00|\\xc0,\\xc00\\x00\\xa3\\x00\\x9f\\xcc\\xa9']\n",
      "Bad pipe message: %s [b\"\\xcc\\xaa\\xc0\\xaf\\xc0\\xad\\xc0\\xa3\\xc0\\x9f\\xc0]\\xc0a\\xc0W\\xc0S\\xc0+\\xc0/\\x00\\xa2\\x00\\x9e\\xc0\\xae\\xc0\\xac\\xc0\\xa2\\xc0\\x9e\\xc0\\\\\\xc0`\\xc0V\\xc0R\\xc0$\\xc0(\\x00k\\x00j\\xc0#\\xc0'\\x00g\\x00@\\xc0\\n\\xc0\\x14\\x009\\x008\\xc0\\t\\xc0\\x13\\x003\\x002\\x00\\x9d\\xc0\\xa1\\xc0\\x9d\\xc0Q\\x00\\x9c\\xc0\\xa0\\xc0\\x9c\\xc0P\\x00=\\x00<\\x005\\x00/\\x00\\x9a\\x00\\x99\\xc0\\x07\\xc0\\x11\\x00\\x96\\x00\\x05\\x00\\xff\\x01\\x00\\x00j\\x00\\x00\\x00\\x0e\\x00\\x0c\\x00\\x00\\t127.0.0.1\\x00\\x0b\\x00\\x04\\x03\\x00\\x01\\x02\\x00\\n\\x00\\x0c\\x00\\n\\x00\\x1d\\x00\\x17\\x00\\x1e\\x00\\x19\\x00\\x18\\x00#\\x00\\x00\\x00\\x16\\x00\\x00\\x00\\x17\\x00\\x00\\x00\\r\\x000\\x00.\\x04\\x03\\x05\\x03\\x06\\x03\\x08\\x07\\x08\\x08\\x08\\t\\x08\\n\\x08\\x0b\\x08\\x04\\x08\\x05\\x08\\x06\\x04\\x01\\x05\\x01\\x06\"]\n",
      "Bad pipe message: %s [b'', b'\\x03\\x03']\n",
      "Bad pipe message: %s [b'']\n",
      "Bad pipe message: %s [b'', b'\\x02']\n",
      "Bad pipe message: %s [b'\\x05\\x02\\x06']\n",
      "Bad pipe message: %s [b\"\\xd3\\x9b\\xecT\\xb3\\xad\\x9b\\xe5\\x0b\\xbaF;\\xc2\\x14\\xcf\\xae\\xb6=\\x00\\x00\\xa6\\xc0,\\xc00\\x00\\xa3\\x00\\x9f\\xcc\\xa9\\xcc\\xa8\\xcc\\xaa\\xc0\\xaf\\xc0\\xad\\xc0\\xa3\\xc0\\x9f\\xc0]\\xc0a\\xc0W\\xc0S\\xc0+\\xc0/\\x00\\xa2\\x00\\x9e\\xc0\\xae\\xc0\\xac\\xc0\\xa2\\xc0\\x9e\\xc0\\\\\\xc0`\\xc0V\\xc0R\\xc0$\\xc0(\\x00k\\x00j\\xc0s\\xc0w\\x00\\xc4\\x00\\xc3\\xc0#\\xc0'\\x00g\\x00@\\xc0r\\xc0v\\x00\\xbe\\x00\\xbd\\xc0\\n\\xc0\\x14\\x009\\x008\\x00\\x88\"]\n",
      "Bad pipe message: %s [b'\\xc3O\\xf9\\xc0\\x9f\\xc2\\x18\\x9e\\xae\\x0f\\x1d\\x00\\x17g\\xc0H\\x81\\xad\\x00\\x00>\\xc0\\x14\\xc0\\n\\x009\\x008\\x007\\x006\\xc0\\x0f\\xc0\\x05\\x005\\xc0\\x13\\xc0\\t\\x003\\x002\\x001\\x000\\xc0\\x0e\\xc0\\x04\\x00/\\x00\\x9a\\x00\\x99\\x00\\x98\\x00\\x97\\x00\\x96\\x00\\x07\\xc0\\x11\\xc0\\x07\\xc0\\x0c\\xc0\\x02\\x00\\x05\\x00\\x04\\x00\\xff\\x02\\x01\\x00\\x00C\\x00\\x00\\x00\\x0e\\x00\\x0c\\x00\\x00\\t127.0.0.1\\x00\\x0b\\x00\\x04\\x03\\x00\\x01\\x02\\x00\\n\\x00\\x1c\\x00\\x1a\\x00\\x17\\x00\\x19\\x00\\x1c\\x00\\x1b\\x00\\x18\\x00\\x1a\\x00\\x16\\x00\\x0e\\x00\\r\\x00\\x0b\\x00\\x0c\\x00\\t\\x00\\n\\x00#\\x00\\x00\\x00\\x0f\\x00\\x01\\x01\\x15\\x03\\x02\\x00\\x02\\x02']\n",
      "Bad pipe message: %s [b'\\x83\\x88O%\\xc3\\x96w\\xf9\\x8fX\\xf4o\\x8f\\x15\\xe9@\\xc6\\xb4\\x00\\x00\\xa2\\xc0\\x14\\xc0\\n\\x009\\x008\\x007\\x006\\x00\\x88\\x00\\x87\\x00\\x86\\x00\\x85\\xc0', b':\\x00\\x89\\xc0\\x0f\\xc0\\x05\\x005\\x00\\x84\\xc0\\x13\\xc0\\t\\x003\\x002\\x001\\x000\\x00']\n",
      "Bad pipe message: %s [b'\\x99\\x00\\x98\\x00\\x97\\x00E\\x00D\\x00C\\x00B\\xc0\\x18\\x004\\x00\\x9b\\x00F\\xc0\\x0e\\xc0\\x04\\x00/\\x00\\x96\\x00A\\x00\\x07\\xc0\\x11\\xc0\\x07\\xc0\\x16\\x00\\x18\\xc0\\x0c\\xc0\\x02\\x00\\x05\\x00\\x04\\xc0\\x12\\xc0\\x08\\x00\\x16\\x00\\x13\\x00\\x10\\x00\\r\\xc0\\x17\\x00\\x1b\\xc0\\r\\xc0\\x03\\x00\\n\\x00\\x15\\x00\\x12\\x00\\x0f\\x00\\x0c\\x00\\x1a\\x00\\t\\x00\\x14\\x00\\x11\\x00\\x19\\x00\\x08\\x00\\x06\\x00\\x17\\x00\\x03\\xc0\\x10\\xc0\\x06\\xc0\\x15\\xc0\\x0b\\xc0\\x01\\x00\\x02\\x00\\x01\\x00\\xff\\x02\\x01\\x00\\x00C\\x00\\x00\\x00\\x0e\\x00\\x0c\\x00\\x00\\t127.0.0.1\\x00\\x0b\\x00\\x04\\x03\\x00\\x01\\x02\\x00\\n\\x00\\x1c\\x00\\x1a\\x00\\x17\\x00']\n",
      "Bad pipe message: %s [b'\\x1c\\x00\\x1b\\x00\\x18\\x00\\x1a\\x00\\x16\\x00\\x0e\\x00\\r\\x00\\x0b\\x00\\x0c\\x00\\t\\x00\\n\\x00#\\x00']\n",
      "Bad pipe message: %s [b'\\xc0\\xcb\\x0bq\\xb5g\\xeb\\xb4\\x80\\xf7\\xafj`D\\xb3\\xe8\\x11D\\x00\\x00>\\xc0\\x14\\xc0\\n\\x009\\x008\\x007\\x006\\xc0\\x0f\\xc0\\x05\\x005\\xc0\\x13\\xc0\\t\\x003\\x002\\x001\\x000\\xc0\\x0e\\xc0\\x04\\x00']\n",
      "Bad pipe message: %s [b'\\x9a\\x00\\x99\\x00\\x98\\x00\\x97\\x00\\x96\\x00\\x07\\xc0\\x11\\xc0\\x07\\xc0\\x0c\\xc0\\x02\\x00\\x05\\x00\\x04\\x00\\xff\\x02\\x01\\x00\\x00C\\x00\\x00\\x00\\x0e\\x00\\x0c\\x00\\x00\\t127.0.0']\n",
      "Bad pipe message: %s [b'\\x92S8\\xb8\\x92\\x8c\\x8b\\xf7uSh\\x82\\xdfb\\xb1\\xa5F\\xd5\\x00\\x00\\xa2\\xc0\\x14\\xc0\\n\\x009\\x008\\x007\\x006\\x00\\x88\\x00\\x87\\x00\\x86\\x00\\x85\\xc0\\x19\\x00:\\x00\\x89\\xc0\\x0f\\xc0\\x05\\x005\\x00\\x84\\xc0\\x13\\xc0\\t\\x003\\x002\\x001\\x000\\x00\\x9a\\x00\\x99\\x00\\x98\\x00\\x97\\x00E\\x00D\\x00C\\x00B\\xc0\\x18\\x004\\x00\\x9b\\x00F\\xc0\\x0e\\xc0\\x04\\x00/\\x00\\x96\\x00A\\x00\\x07\\xc0\\x11\\xc0\\x07\\xc0\\x16\\x00\\x18\\xc0\\x0c\\xc0\\x02\\x00\\x05\\x00\\x04\\xc0\\x12\\xc0\\x08\\x00\\x16\\x00\\x13\\x00\\x10\\x00\\r\\xc0\\x17\\x00\\x1b\\xc0\\r\\xc0\\x03\\x00\\n\\x00\\x15\\x00\\x12\\x00']\n",
      "Bad pipe message: %s [b'\\x0c\\x00\\x1a\\x00\\t\\x00\\x14\\x00\\x11\\x00\\x19\\x00\\x08\\x00']\n",
      "Bad pipe message: %s [b'\\x17\\x00\\x03\\xc0\\x10']\n",
      "Bad pipe message: %s [b\"E\\x8c\\x85\\n\\x10\\xa7\\x05\\x8c#\\xa9\\xf7o\\xb74\\xf3\\xba\\xb7\\x8c\\x00\\x00\\x86\\xc00\\xc0,\\xc0(\\xc0$\\xc0\\x14\\xc0\\n\\x00\\xa5\\x00\\xa3\\x00\\xa1\\x00\\x9f\\x00k\\x00j\\x00i\\x00h\\x009\\x008\\x007\\x006\\xc02\\xc0.\\xc0*\\xc0&\\xc0\\x0f\\xc0\\x05\\x00\\x9d\\x00=\\x005\\xc0/\\xc0+\\xc0'\\xc0#\\xc0\\x13\\xc0\\t\\x00\\xa4\\x00\\xa2\\x00\\xa0\\x00\\x9e\\x00g\\x00@\\x00?\\x00>\\x003\\x002\\x001\\x000\\xc01\\xc0-\\xc0)\\xc0%\\xc0\\x0e\\xc0\\x04\\x00\\x9c\\x00<\\x00/\\x00\\x9a\\x00\\x99\\x00\\x98\"]\n",
      "Bad pipe message: %s [b'\\xe3\\x04\\x85\\x03\\xe4\\x84\\xd8\\x1c\\x99\\x1f\\x9b\\xd5\\xbc9\\x1c\\x82\\xceC\\x00\\x00\\xf4\\xc00\\xc0,\\xc0(\\xc0$\\xc0\\x14\\xc0\\n\\x00\\xa5\\x00\\xa3\\x00\\xa1\\x00\\x9f\\x00k\\x00j\\x00i\\x00h\\x009\\x008\\x007\\x006\\x00\\x88\\x00\\x87\\x00\\x86\\x00\\x85\\xc0\\x19\\x00\\xa7\\x00m\\x00:\\x00\\x89\\xc02\\xc0.\\xc0*\\xc0&\\xc0\\x0f\\xc0\\x05\\x00']\n",
      "Bad pipe message: %s [b\"=\\x005\\x00\\x84\\xc0/\\xc0+\\xc0'\\xc0#\\xc0\\x13\\xc0\\t\\x00\\xa4\\x00\\xa2\\x00\\xa0\\x00\\x9e\\x00g\\x00@\\x00?\\x00>\\x003\\x002\\x001\\x000\\x00\\x9a\\x00\\x99\\x00\\x98\\x00\\x97\\x00E\\x00D\\x00C\\x00B\\xc0\\x18\\x00\\xa6\\x00l\\x004\\x00\\x9b\\x00F\\xc01\\xc0-\\xc0)\\xc0%\\xc0\\x0e\\xc0\\x04\\x00\\x9c\\x00<\\x00/\\x00\\x96\\x00A\\x00\\x07\\xc0\\x11\\xc0\\x07\\xc0\\x16\\x00\\x18\\xc0\\x0c\\xc0\\x02\\x00\\x05\\x00\\x04\\xc0\\x12\\xc0\\x08\\x00\\x16\\x00\\x13\\x00\\x10\\x00\\r\\xc0\\x17\\x00\\x1b\\xc0\\r\\xc0\\x03\\x00\\n\\x00\\x15\\x00\\x12\\x00\\x0f\\x00\\x0c\\x00\\x1a\\x00\\t\\x00\\x14\\x00\\x11\\x00\\x19\\x00\\x08\\x00\\x06\\x00\\x17\\x00\"]\n",
      "Bad pipe message: %s [b'\\x10\\xc0']\n",
      "Bad pipe message: %s [b'\\x15\\xc0\\x0b\\xc0\\x01']\n"
     ]
    }
   ],
   "source": [
    "#Operadores de listas\n",
    "lista=['Hola','mundo','como','estas']\n",
    "print(lista)\n",
    "lista2=['Hola','mundo','como','estas']\n",
    "print(lista2)\n",
    "print(f'La lista 1 es igual a la lista 2: {lista==lista2}')\n",
    "print(f'La lista 1 es diferente a la lista 2: {lista!=lista2}')"
   ]
  },
  {
   "cell_type": "markdown",
   "metadata": {},
   "source": [
    "En la siguiente celda pide una línea por teclado con el nombre y los dos apellidos y muestra una salida con los apellidos y el nombre con su primera letra mayúscula. "
   ]
  },
  {
   "cell_type": "markdown",
   "metadata": {},
   "source": [
    "Para saber más sobre listas [Pulsar](https://docs.python.org/3/tutorial/datastructures.html)"
   ]
  },
  {
   "cell_type": "markdown",
   "metadata": {},
   "source": [
    "### Tuplas __TUPLES__"
   ]
  },
  {
   "cell_type": "code",
   "execution_count": 33,
   "metadata": {},
   "outputs": [
    {
     "name": "stdout",
     "output_type": "stream",
     "text": [
      "('Hola', 'mundo', 'como', 'estas')\n",
      "('Hola', 'mundo', 'como', 'estas')\n",
      "La tupla 1 es igual a la tupla 2: True\n",
      "La tupla 1 es diferente a la tupla 2: False\n"
     ]
    }
   ],
   "source": [
    "tupla=('Hola','mundo','como','estas')\n",
    "print(tupla)\n",
    "tupla2=('Hola','mundo','como','estas')\n",
    "print(tupla2)\n",
    "print(f'La tupla 1 es igual a la tupla 2: {tupla==tupla2}')\n",
    "print(f'La tupla 1 es diferente a la tupla 2: {tupla!=tupla2}')"
   ]
  },
  {
   "cell_type": "code",
   "execution_count": 34,
   "metadata": {},
   "outputs": [
    {
     "name": "stdout",
     "output_type": "stream",
     "text": [
      "Primer elemento :como\n",
      "Ultimo elemento :estas\n",
      "Elementos 2 y 3 :('como', 'estas')\n",
      "Invertida :('estas', 'como', 'mundo', 'Hola')\n"
     ]
    },
    {
     "ename": "TypeError",
     "evalue": "'tuple' object does not support item assignment",
     "output_type": "error",
     "traceback": [
      "\u001b[0;31m---------------------------------------------------------------------------\u001b[0m",
      "\u001b[0;31mTypeError\u001b[0m                                 Traceback (most recent call last)",
      "Cell \u001b[0;32mIn [34], line 7\u001b[0m\n\u001b[1;32m      4\u001b[0m \u001b[39mprint\u001b[39m(\u001b[39mf\u001b[39m\u001b[39m'\u001b[39m\u001b[39mElementos 2 y 3 :\u001b[39m\u001b[39m{\u001b[39;00mtupla[\u001b[39m2\u001b[39m:\u001b[39m4\u001b[39m]\u001b[39m}\u001b[39;00m\u001b[39m'\u001b[39m)\n\u001b[1;32m      5\u001b[0m \u001b[39mprint\u001b[39m(\u001b[39mf\u001b[39m\u001b[39m'\u001b[39m\u001b[39mInvertida :\u001b[39m\u001b[39m{\u001b[39;00mtupla[::\u001b[39m-\u001b[39m\u001b[39m1\u001b[39m]\u001b[39m}\u001b[39;00m\u001b[39m'\u001b[39m)\n\u001b[0;32m----> 7\u001b[0m tupla[\u001b[39m0\u001b[39;49m]\u001b[39m=\u001b[39m\u001b[39m'\u001b[39m\u001b[39mHola mundo\u001b[39m\u001b[39m'\u001b[39m\n",
      "\u001b[0;31mTypeError\u001b[0m: 'tuple' object does not support item assignment"
     ]
    }
   ],
   "source": [
    "tupla=('Hola','mundo','como','estas')\n",
    "print(f'Primer elemento :{tupla[2]}')\n",
    "print(f'Ultimo elemento :{tupla[-1]}')\n",
    "print(f'Elementos 2 y 3 :{tupla[2:4]}')\n",
    "print(f'Invertida :{tupla[::-1]}')\n",
    "\n",
    "tupla[0]='Hola mundo'"
   ]
  },
  {
   "cell_type": "code",
   "execution_count": 35,
   "metadata": {},
   "outputs": [
    {
     "name": "stdout",
     "output_type": "stream",
     "text": [
      "[('Hola', 0), ('mundo', 1), ('como', 2), ('estas', 3)]\n"
     ]
    }
   ],
   "source": [
    "#combina dos listas\n",
    "lista1=['Hola','mundo','como','estas']\n",
    "lista2=range(0,len(lista1))\n",
    "lista3=list(zip(lista1,lista2))\n",
    "print(lista3)"
   ]
  },
  {
   "cell_type": "markdown",
   "metadata": {},
   "source": [
    "### Diccionarios __DIC__"
   ]
  },
  {
   "cell_type": "code",
   "execution_count": 36,
   "metadata": {},
   "outputs": [
    {
     "name": "stdout",
     "output_type": "stream",
     "text": [
      "{'Nombre': 'Juan', 'Edad': 20, 'Carrera': 'Ingenieria'}\n",
      "Nombre: Juan\n",
      "Edad: 20\n",
      "Carrera: Ingenieria\n"
     ]
    }
   ],
   "source": [
    "diccionario={'Nombre':'Juan','Edad':20,'Carrera':'Ingenieria'}\n",
    "print(diccionario)\n",
    "print(f'Nombre: {diccionario[\"Nombre\"]}')\n",
    "print(f'Edad: {diccionario[\"Edad\"]}')\n",
    "print(f'Carrera: {diccionario[\"Carrera\"]}')"
   ]
  },
  {
   "cell_type": "code",
   "execution_count": 22,
   "metadata": {},
   "outputs": [
    {
     "name": "stdout",
     "output_type": "stream",
     "text": [
      "{}\n"
     ]
    }
   ],
   "source": [
    "#diccionario vacio \n",
    "diccionario={}\n",
    "print(diccionario)"
   ]
  },
  {
   "cell_type": "code",
   "execution_count": 37,
   "metadata": {},
   "outputs": [
    {
     "name": "stdout",
     "output_type": "stream",
     "text": [
      "{'Nombre': 'Jesus', 'Edad': 20, 'Carrera': 'Ingenieria'}\n"
     ]
    }
   ],
   "source": [
    "#asignación de un elemento\n",
    "diccionario[\"Nombre\"]=\"Jesus\"\n",
    "print(diccionario)"
   ]
  },
  {
   "cell_type": "code",
   "execution_count": 38,
   "metadata": {},
   "outputs": [
    {
     "name": "stdout",
     "output_type": "stream",
     "text": [
      "Lista de llaves:dict_keys(['Nombre', 'Edad', 'Carrera'])\n",
      "Lista de valores:dict_values(['Jesus', 20, 'Ingenieria'])\n",
      "Lista de pares:dict_items([('Nombre', 'Jesus'), ('Edad', 20), ('Carrera', 'Ingenieria')])\n"
     ]
    }
   ],
   "source": [
    "#lista de índices /keys\n",
    "print(f'Lista de llaves:{diccionario.keys()}')\n",
    "#lista de valores\n",
    "print(f'Lista de valores:{diccionario.values()}')\n",
    "#lista de pares\n",
    "print(f'Lista de pares:{diccionario.items()}')\n"
   ]
  },
  {
   "cell_type": "code",
   "execution_count": null,
   "metadata": {},
   "outputs": [],
   "source": [
    "#añadir un elemento con clave nueva\n",
    "diccionario\n",
    "print(diccionario)"
   ]
  },
  {
   "cell_type": "markdown",
   "metadata": {},
   "source": [
    "## Estructuras de control __CONTROL__"
   ]
  },
  {
   "cell_type": "markdown",
   "metadata": {},
   "source": [
    "### Decisión __IF__"
   ]
  },
  {
   "cell_type": "markdown",
   "metadata": {},
   "source": [
    "~~~\n",
    "if [condicion] :\n",
    "    [acción]\n",
    "else\n",
    "    [acción]\n",
    "~~~"
   ]
  },
  {
   "cell_type": "code",
   "execution_count": 39,
   "metadata": {},
   "outputs": [
    {
     "name": "stdout",
     "output_type": "stream",
     "text": [
      "No se le otorga el premio a JESUS ROMERO NIETO\n",
      "El número de caracteres es: 18\n"
     ]
    }
   ],
   "source": [
    "apellido=input('Ingrese su apellido (sin acentos): ').upper()\n",
    "if apellido in ['JIMENEZ','LOPEZ','GARCIA']:\n",
    "    print(f'Premio por apedillarse {apellido}')\n",
    "else:\n",
    "    print(f'No se le otorga el premio a {apellido}')\n",
    "\n",
    "print(f'El número de caracteres es: {len(apellido)}')"
   ]
  },
  {
   "cell_type": "markdown",
   "metadata": {},
   "source": [
    "~~~\n",
    "if [condición1]:\n",
    "    [acción 1]\n",
    "elif [condicción 2]:\n",
    "    [acción 2]\n",
    ".................\n",
    "elif [condición n]:\n",
    "    [acción n]\n",
    "else:\n",
    "    [acción]\n",
    "~~~"
   ]
  },
  {
   "cell_type": "code",
   "execution_count": 41,
   "metadata": {},
   "outputs": [
    {
     "name": "stdout",
     "output_type": "stream",
     "text": [
      "Libra\n"
     ]
    }
   ],
   "source": [
    "fecha=input('Ingrese su fecha de nacimiento (dd/mm/aaaa): ').split('/')\n",
    "dia,mes=int(fecha[0]),int(fecha[1])\n",
    "#calcular tu signo del zodiaco\n",
    "if mes==1:\n",
    "    if dia<=19:\n",
    "        print('Capricornio')\n",
    "    else:\n",
    "        print('Acuario')\n",
    "elif mes==2:\n",
    "    if dia<=18:\n",
    "        print('Acuario')\n",
    "    else:\n",
    "        print('Piscis')\n",
    "elif mes==3:\n",
    "    if dia<=20:\n",
    "        print('Piscis')\n",
    "    else:\n",
    "        print('Aries')\n",
    "elif mes==4:\n",
    "    if dia<=19:\n",
    "        print('Aries')\n",
    "    else:\n",
    "        print('Tauro')\n",
    "elif mes==5:\n",
    "    if dia<=20:\n",
    "        print('Tauro')\n",
    "    else:\n",
    "        print('Geminis')\n",
    "elif mes==6:\n",
    "    if dia<=20:\n",
    "        print('Geminis')\n",
    "    else:\n",
    "        print('Cancer')\n",
    "elif mes==7:\n",
    "    if dia<=22:\n",
    "        print('Cancer')\n",
    "    else:\n",
    "        print('Leo')\n",
    "elif mes==8:\n",
    "    if dia<=22:\n",
    "        print('Leo')\n",
    "    else:\n",
    "        print('Virgo')\n",
    "elif mes==9:\n",
    "    if dia<=22:\n",
    "        print('Virgo')\n",
    "    else:\n",
    "        print('Libra')\n",
    "elif mes==10:\n",
    "    if dia<=22:\n",
    "        print('Libra')\n",
    "    else:\n",
    "        print('Escorpio')\n",
    "elif mes==11:\n",
    "    if dia<=21:\n",
    "        print('Escorpio')\n",
    "    else:\n",
    "        print('Sagitario')\n",
    "else:\n",
    "    if dia<=21:\n",
    "        print('Sagitario')\n",
    "    else:\n",
    "        print('Capricornio')\n",
    "    "
   ]
  },
  {
   "cell_type": "markdown",
   "metadata": {},
   "source": [
    "### Bucles __FOR/WHILE__"
   ]
  },
  {
   "cell_type": "markdown",
   "metadata": {},
   "source": [
    "~~~\n",
    "for [variable] in [lista/conjunto]:\n",
    "    [acciones]\n",
    "~~~"
   ]
  },
  {
   "cell_type": "code",
   "execution_count": 42,
   "metadata": {},
   "outputs": [
    {
     "name": "stdout",
     "output_type": "stream",
     "text": [
      "1\n",
      "3\n",
      "5\n",
      "7\n",
      "9\n"
     ]
    }
   ],
   "source": [
    "for numero in range(1,11,2):\n",
    "    print(numero)"
   ]
  },
  {
   "cell_type": "markdown",
   "metadata": {},
   "source": [
    "**Saltarse** algún elemento **continue**"
   ]
  },
  {
   "cell_type": "code",
   "execution_count": 45,
   "metadata": {},
   "outputs": [
    {
     "name": "stdout",
     "output_type": "stream",
     "text": [
      "9\n",
      "7\n",
      "5\n",
      "3\n",
      "1\n"
     ]
    }
   ],
   "source": [
    "for numero in range(10,0,-1):\n",
    "    if numero%2==0:\n",
    "        continue\n",
    "    print(numero)"
   ]
  },
  {
   "cell_type": "markdown",
   "metadata": {},
   "source": [
    "**Terminar antes** del último elemento **break**"
   ]
  },
  {
   "cell_type": "code",
   "execution_count": 44,
   "metadata": {},
   "outputs": [
    {
     "ename": "IndentationError",
     "evalue": "expected an indented block after 'if' statement on line 2 (929874669.py, line 4)",
     "output_type": "error",
     "traceback": [
      "\u001b[0;36m  Cell \u001b[0;32mIn [44], line 4\u001b[0;36m\u001b[0m\n\u001b[0;31m    print(mes)\u001b[0m\n\u001b[0m    ^\u001b[0m\n\u001b[0;31mIndentationError\u001b[0m\u001b[0;31m:\u001b[0m expected an indented block after 'if' statement on line 2\n"
     ]
    }
   ],
   "source": [
    "for mes in ['Enero','Febrero','Marzo','Abril','Mayo','Junio','Julio','Agosto','Septiembre','Octubre','Noviembre','Diciembre']:\n",
    "    if mes=='Julio':\n",
    "        \n",
    "    print(mes)"
   ]
  },
  {
   "cell_type": "markdown",
   "metadata": {},
   "source": [
    "Costrucción compacta de listas"
   ]
  },
  {
   "cell_type": "code",
   "execution_count": 3,
   "metadata": {},
   "outputs": [
    {
     "name": "stdout",
     "output_type": "stream",
     "text": [
      "[2, 4, 6, 8, 10]\n"
     ]
    }
   ],
   "source": [
    "numeros=[1,2,3,4,5,6,7,8,9,10]\n",
    "listaPares=[num for num in numeros if num%2==0]\n",
    "print(listaPares)\n"
   ]
  },
  {
   "cell_type": "markdown",
   "metadata": {},
   "source": [
    "¿Cuales son los meses que sumando la longitud de su nombre al número de mes , comenzando desde 1, obtenemos un valor par?"
   ]
  },
  {
   "cell_type": "code",
   "execution_count": 5,
   "metadata": {},
   "outputs": [
    {
     "name": "stdout",
     "output_type": "stream",
     "text": [
      "[(5, 1), (7, 2), (5, 3), (5, 4), (4, 5), (5, 6), (5, 7), (6, 8), (10, 9), (7, 10), (9, 11), (9, 12)]\n",
      "['Enero', 'Marzo', 'Julio', 'Agosto', 'Noviembre']\n"
     ]
    }
   ],
   "source": [
    "meses=['Enero','Febrero','Marzo','Abril','Mayo','Junio','Julio','Agosto','Septiembre','Octubre','Noviembre','Diciembre']\n",
    "numero=list(range(1,13))\n",
    "longitud=[len(mes) for mes in meses]\n",
    "meses_y_numero=list(zip(longitud,numero))\n",
    "print(meses_y_numero)\n",
    "solucion=[meses[mes-1] for (lg,mes) in meses_y_numero if (lg+mes)%2==0]\n",
    "print(solucion)\n"
   ]
  },
  {
   "cell_type": "markdown",
   "metadata": {},
   "source": [
    "Lista todas las combinaciones de 3 colores distintos entre ['rojo','verde','azul']"
   ]
  },
  {
   "cell_type": "code",
   "execution_count": null,
   "metadata": {},
   "outputs": [],
   "source": [
    "colores=['rojo','verde','azul'] \n",
    "[(color1,color2,color3) for color1 in colores for color2 in colores for color3 in colores if ]"
   ]
  },
  {
   "cell_type": "markdown",
   "metadata": {},
   "source": [
    "~~~\n",
    "while [condición]:\n",
    "    [acción]\n",
    "~~~"
   ]
  },
  {
   "cell_type": "markdown",
   "metadata": {},
   "source": [
    "Calcular la sucesión de Fibonacci:\n",
    "\n",
    "- $s_0 = 0$\n",
    "- $s_1 = 1$\n",
    "- $s_n=s_{n-1}+s_{n-2}$"
   ]
  },
  {
   "cell_type": "code",
   "execution_count": null,
   "metadata": {},
   "outputs": [],
   "source": [
    "#calcula la función de fibonacci\n",
    "n_0=0\n",
    "n_1=1\n",
    "n=int(input('Ingrese el número de elementos de la serie: '))\n",
    "serie=[n_0,n_1]\n",
    "while <n:\n",
    "    n_2=n_0+n_1\n",
    "    n_0=n_1\n",
    "    \n",
    "    serie.append(n_2)\n",
    "print(serie)\n",
    "\n"
   ]
  },
  {
   "cell_type": "markdown",
   "metadata": {},
   "source": [
    "## Funciones __DEF__"
   ]
  },
  {
   "cell_type": "markdown",
   "metadata": {},
   "source": [
    "~~~\n",
    "def [nombre] ([param1]:[tipo], ... , [paramN]:[tipo]]) ->[tipo]:\n",
    "    [acciones]\n",
    "    return [valor]\n",
    "~~~"
   ]
  },
  {
   "cell_type": "code",
   "execution_count": null,
   "metadata": {},
   "outputs": [],
   "source": [
    "def fibonacci(n:int)-> list:\n",
    "    n_0=0\n",
    "    n_1=1\n",
    "    serie=[n_0,n_1]\n",
    "    while <n:\n",
    "        n_2=n_0+n_1\n",
    "        n_0=n_1\n",
    "        \n",
    "        serie.append(n_2)\n",
    "    return serie"
   ]
  },
  {
   "cell_type": "code",
   "execution_count": null,
   "metadata": {},
   "outputs": [],
   "source": [
    "fibonacci(5)"
   ]
  },
  {
   "cell_type": "markdown",
   "metadata": {},
   "source": [
    "[Criba de Eratostenes](https://es.wikipedia.org/wiki/Criba_de_Erat%C3%B3stenes)"
   ]
  },
  {
   "cell_type": "code",
   "execution_count": null,
   "metadata": {},
   "outputs": [],
   "source": [
    "#criba de eratostenes\n",
    "# Paraḿetros por defecto\n",
    "def criba_eratostenes(n:int=20)-> list:\n",
    "    lista=[True]*n\n",
    "    lista[0]=False\n",
    "    lista[1]=False\n",
    "    for i in range(2,n):\n",
    "        if lista[i]:\n",
    "            for j in :\n",
    "                lista[j]=False\n",
    "    return [i for i in range(n) if lista[i]]"
   ]
  },
  {
   "cell_type": "code",
   "execution_count": null,
   "metadata": {},
   "outputs": [],
   "source": [
    "print(criba_eratostenes())\n",
    "print(criba_eratostenes(50))"
   ]
  },
  {
   "cell_type": "code",
   "execution_count": null,
   "metadata": {},
   "outputs": [],
   "source": [
    "#Parámetros opcionales y múltiples\n",
    "def interes(capital:float,interes:float=0.05,periodo:int=1)-> float:\n",
    "    return capital*(1+interes)**periodo"
   ]
  },
  {
   "cell_type": "code",
   "execution_count": null,
   "metadata": {},
   "outputs": [],
   "source": [
    "#invocación mediante el uso del nombre de los parámetros\n",
    "print(interes(100,periodo=5,))"
   ]
  },
  {
   "cell_type": "markdown",
   "metadata": {},
   "source": [
    "## Módulos __IMPORT__"
   ]
  },
  {
   "cell_type": "markdown",
   "metadata": {},
   "source": [
    "~~~\n",
    "from [libreria] import [elementos]\n",
    "\n",
    "import [libreria] as [nuevonombre]\n",
    "~~~"
   ]
  },
  {
   "cell_type": "code",
   "execution_count": null,
   "metadata": {},
   "outputs": [],
   "source": [
    "#inclusión de un módulo sus elementos se invoca con el nombre del módulo\n",
    "\n",
    "\n",
    "def area_circulo(radio:float)-> float:\n",
    "    return math.pi*radio**2\n",
    "\n",
    "print(area_circulo(5))"
   ]
  },
  {
   "cell_type": "code",
   "execution_count": null,
   "metadata": {},
   "outputs": [],
   "source": [
    "#inclusión de un módulo renombrádolo\n",
    "import math \n",
    "\n",
    "def area_circulo(radio:float)-> float:\n",
    "    return m.pi*radio**2\n",
    "\n",
    "print(area_circulo(5))\n"
   ]
  },
  {
   "cell_type": "code",
   "execution_count": null,
   "metadata": {},
   "outputs": [],
   "source": [
    "#icluir algún elemento de un módulo\n",
    "\n",
    "\n",
    "def area_circulo(radio:float)-> float:\n",
    "    return pi*radio**2\n",
    "\n",
    "print(area_circulo(5))"
   ]
  },
  {
   "cell_type": "code",
   "execution_count": null,
   "metadata": {},
   "outputs": [],
   "source": [
    "#incluir algún elemento de un módulo renombrándolo\n",
    "from math import pi \n",
    "\n",
    "def area_circulo(radio:float)-> float:\n",
    "    return pi_math*radio**2\n",
    "\n",
    "print(area_circulo(5))\n"
   ]
  },
  {
   "cell_type": "code",
   "execution_count": null,
   "metadata": {},
   "outputs": [],
   "source": [
    "#incluir todos los elementos de un módulo\n",
    "#Utilizarlos directamente sin referencia al modulo\n",
    "from math import *\n",
    "\n",
    "def area_circulo(radio:float)-> float:\n",
    "    return pi*radio**2\n",
    "\n",
    "print()\n"
   ]
  },
  {
   "cell_type": "markdown",
   "metadata": {},
   "source": [
    "## Clases __CLASS__"
   ]
  },
  {
   "cell_type": "markdown",
   "metadata": {},
   "source": [
    "~~~\n",
    "class [Nombre] ([hereda]):\n",
    "\n",
    "    def __init__ (self, ....):\n",
    "\n",
    "    def [metodo] (self, ...):\n",
    "~~~"
   ]
  },
  {
   "cell_type": "code",
   "execution_count": null,
   "metadata": {},
   "outputs": [],
   "source": [
    "class Persona:\n",
    "    def __init__(self,nombre:str,edad:int):\n",
    "        self.nombre=nombre\n",
    "        self.edad=edad\n",
    "    def saludar(self):\n",
    "        print(f'Hola, me llamo {self.nombre} y tengo {self.edad} años')\n",
    "\n",
    "\n",
    "class Empleado(Persona):\n",
    "    def __init__(self,nombre:str,edad:int,sueldo:float):\n",
    "        super().__init__(nombre,edad)\n",
    "        self.sueldo=sueldo\n",
    "    def saludar(self):\n",
    "        super().saludar()\n",
    "        print(f'Mi sueldo es de {self.sueldo}')\n",
    "\n",
    "yo=\n",
    "yo.saludar()\n",
    "\n",
    "miAmigo=\n",
    "miAmigo.saludar()    "
   ]
  }
 ],
 "metadata": {
  "kernelspec": {
   "display_name": "Python 3.10.8 64-bit",
   "language": "python",
   "name": "python3"
  },
  "language_info": {
   "codemirror_mode": {
    "name": "ipython",
    "version": 3
   },
   "file_extension": ".py",
   "mimetype": "text/x-python",
   "name": "python",
   "nbconvert_exporter": "python",
   "pygments_lexer": "ipython3",
   "version": "3.10.8"
  },
  "vscode": {
   "interpreter": {
    "hash": "949777d72b0d2535278d3dc13498b2535136f6dfe0678499012e853ee9abcab1"
   }
  }
 },
 "nbformat": 4,
 "nbformat_minor": 2
}
