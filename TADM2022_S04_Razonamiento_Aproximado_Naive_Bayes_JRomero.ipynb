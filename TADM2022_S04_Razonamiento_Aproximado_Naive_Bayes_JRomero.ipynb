{
  "nbformat": 4,
  "nbformat_minor": 0,
  "metadata": {
    "colab": {
      "provenance": []
    },
    "kernelspec": {
      "name": "python3",
      "display_name": "Python 3"
    }
  },
  "cells": [
    {
      "cell_type": "markdown",
      "source": [
        "# Razonamiento Aproximado:\n",
        "\n",
        "El conocimiento que se necesita para desarrolar un sistema basado en conocimiento, en general, es no confiable, impreciso, incompleto y contradictorio, debido a diversas causas de inexactitud.\n",
        "\n",
        "Entre las diversas técnicas de clasificación de variables en la que existe incertidumbre se encuentra el razonamiento aproximado. Utilizando estimadores robustos al ruido como los métodos bayesianos se podrá realizar dicha clasificación de una manera más certera."
      ],
      "metadata": {
        "id": "ZlKaWWHv1Db8"
      }
    },
    {
      "cell_type": "markdown",
      "metadata": {
        "id": "t1s4a8JyqcyP"
      },
      "source": [
        "Vamos a operar de diferentes maneras con los préstamos de nuestro banco, en concreto vamos a intentar crear clasificadores para que dadas unas variables nos den la probabilidad o el rating de darle un préstamo a un cliente.\n"
      ]
    },
    {
      "cell_type": "markdown",
      "metadata": {
        "id": "vpDTzqbaiodK"
      },
      "source": [
        "## Carga de Datos"
      ]
    },
    {
      "cell_type": "code",
      "metadata": {
        "colab": {
          "base_uri": "https://localhost:8080/"
        },
        "id": "lrljckjEtOOm",
        "outputId": "6756243c-0341-40e5-80f8-47355dbe57b4"
      },
      "source": [
        "!gdown --id 1Osmr7qVN0NMuqYxvLesNn7H4nqPCVbsU"
      ],
      "execution_count": null,
      "outputs": [
        {
          "output_type": "stream",
          "name": "stdout",
          "text": [
            "/usr/local/lib/python3.7/dist-packages/gdown/cli.py:131: FutureWarning: Option `--id` was deprecated in version 4.3.1 and will be removed in 5.0. You don't need to pass it anymore to use a file ID.\n",
            "  category=FutureWarning,\n",
            "Downloading...\n",
            "From: https://drive.google.com/uc?id=1Osmr7qVN0NMuqYxvLesNn7H4nqPCVbsU\n",
            "To: /content/data_berka.db\n",
            "100% 70.2M/70.2M [00:01<00:00, 39.8MB/s]\n"
          ]
        }
      ]
    },
    {
      "cell_type": "markdown",
      "metadata": {
        "id": "UDaOStdPirkZ"
      },
      "source": [
        "1. Cargamos la extensión sql"
      ]
    },
    {
      "cell_type": "code",
      "metadata": {
        "id": "3Zpf7lz5h7wp"
      },
      "source": [
        "%load_ext sql"
      ],
      "execution_count": null,
      "outputs": []
    },
    {
      "cell_type": "markdown",
      "metadata": {
        "id": "zPGw5HdqiuHI"
      },
      "source": [
        "2. Nos conectamos con la base de datos"
      ]
    },
    {
      "cell_type": "code",
      "metadata": {
        "id": "ADklBjhhiPLE",
        "colab": {
          "base_uri": "https://localhost:8080/",
          "height": 35
        },
        "outputId": "ff87656c-3baa-424d-c057-0d3d00f6093f"
      },
      "source": [
        "%sql sqlite:///data_berka.db"
      ],
      "execution_count": null,
      "outputs": [
        {
          "output_type": "execute_result",
          "data": {
            "text/plain": [
              "'Connected: @data_berka.db'"
            ],
            "application/vnd.google.colaboratory.intrinsic+json": {
              "type": "string"
            }
          },
          "metadata": {},
          "execution_count": 4
        }
      ]
    },
    {
      "cell_type": "markdown",
      "metadata": {
        "id": "oQlROt7Uidms"
      },
      "source": [
        "> Datos de préstamos ya finalizados con su estado final, incluyendo datos del distrito, etc."
      ]
    },
    {
      "cell_type": "markdown",
      "source": [
        "¿Cuántos préstamos hay por cada estado?"
      ],
      "metadata": {
        "id": "iq0ZnTlWlN1s"
      }
    },
    {
      "cell_type": "code",
      "source": [
        "%%sql\n",
        "SELECT status, count(*) as total\n",
        "FROM LOAN \n",
        "GROUP BY status\n",
        "ORDER BY total DESC"
      ],
      "metadata": {
        "id": "75QG92jrlNcH",
        "colab": {
          "base_uri": "https://localhost:8080/",
          "height": 161
        },
        "outputId": "04c3aa34-e626-41b4-87db-a9a95600dcad"
      },
      "execution_count": null,
      "outputs": [
        {
          "output_type": "stream",
          "name": "stdout",
          "text": [
            " * sqlite:///data_berka.db\n",
            "Done.\n"
          ]
        },
        {
          "output_type": "execute_result",
          "data": {
            "text/plain": [
              "[('C', 403), ('A', 203), ('D', 45), ('B', 31)]"
            ],
            "text/html": [
              "<table>\n",
              "    <thead>\n",
              "        <tr>\n",
              "            <th>status</th>\n",
              "            <th>total</th>\n",
              "        </tr>\n",
              "    </thead>\n",
              "    <tbody>\n",
              "        <tr>\n",
              "            <td>C</td>\n",
              "            <td>403</td>\n",
              "        </tr>\n",
              "        <tr>\n",
              "            <td>A</td>\n",
              "            <td>203</td>\n",
              "        </tr>\n",
              "        <tr>\n",
              "            <td>D</td>\n",
              "            <td>45</td>\n",
              "        </tr>\n",
              "        <tr>\n",
              "            <td>B</td>\n",
              "            <td>31</td>\n",
              "        </tr>\n",
              "    </tbody>\n",
              "</table>"
            ]
          },
          "metadata": {},
          "execution_count": 5
        }
      ]
    },
    {
      "cell_type": "markdown",
      "source": [
        "Vamos a empezar obteniendo los datos de los préstamos ya finalizados. Van a ser nuestros datos de entrenamiento. Por lo que seleccionaremos únicamente aquellos préstamos en status 'A' o 'B'. \n",
        "\n",
        "Con una sentencia CASE vamos a poner los prestamos finalizados bien a 1 y los que no finalizaron bien a 0. \n",
        "\n",
        "Sintaxis de uso de [INNER JOIN](https://www.sqlitetutorial.net/sqlite-inner-join/) para establecer joins entre tablas"
      ],
      "metadata": {
        "id": "roYYO_h9kH0d"
      }
    },
    {
      "cell_type": "markdown",
      "source": [
        "CASE: es una instrucción que se utiliza para crear condiciones y devuelve los valores cuando se cumple con la condición especificada.\n",
        "\n",
        "SUBSTR: extrae una subcadena de una cadena."
      ],
      "metadata": {
        "id": "p5m4kVRwV7nJ"
      }
    },
    {
      "cell_type": "code",
      "metadata": {
        "id": "dbTj5fJxiasa",
        "colab": {
          "base_uri": "https://localhost:8080/"
        },
        "outputId": "ff8c4250-550a-4d04-e68d-3ececedac852"
      },
      "source": [
        "#La siguiente línea de código nos indica que se esta añadiendo un tabla con dichos atributos a un objeto.\n",
        "#CASE en este caso se usa para cambiar el valor de las celdas.\n",
        "%%sql loans_train << SELECT substr(l.date,0,3) year, amount, duration, payments, A11, A13,\n",
        "  CASE status WHEN 'A' THEN 1 \n",
        "              WHEN 'B' THEN 0 \n",
        "  END label\n",
        "  FROM LOAN l, ACCOUNT a INNER JOIN DISTRICT d on a.district_id = d.A1 \n",
        "  WHERE l.account_id = a.account_id and l.status in (\"A\", \"B\")"
      ],
      "execution_count": null,
      "outputs": [
        {
          "output_type": "stream",
          "name": "stdout",
          "text": [
            " * sqlite:///data_berka.db\n",
            "Done.\n",
            "Returning data to local variable loans_train\n"
          ]
        }
      ]
    },
    {
      "cell_type": "markdown",
      "metadata": {
        "id": "Jj_-Qp_yiyeB"
      },
      "source": [
        "3. Obtenemos el DataFrame"
      ]
    },
    {
      "cell_type": "code",
      "metadata": {
        "id": "EgN-fsjUimKL",
        "colab": {
          "base_uri": "https://localhost:8080/",
          "height": 206
        },
        "outputId": "7949d39b-5009-48f7-9595-df393b064f9d"
      },
      "source": [
        "df_train = loans_train.DataFrame()\n",
        "df_train.head()"
      ],
      "execution_count": null,
      "outputs": [
        {
          "output_type": "execute_result",
          "data": {
            "text/plain": [
              "  year  amount  duration  payments    A11   A13  label\n",
              "0   93   96396        12      8033   9650  3.67      0\n",
              "1   93  165960        36      4610   8369  2.31      1\n",
              "2   93  127080        60      2118   8390  2.89      1\n",
              "3   93  105804        36      2939   8754  4.31      1\n",
              "4   93  274740        60      4579  12541  0.43      1"
            ],
            "text/html": [
              "\n",
              "  <div id=\"df-68534360-8920-40f9-a345-89410dee7703\">\n",
              "    <div class=\"colab-df-container\">\n",
              "      <div>\n",
              "<style scoped>\n",
              "    .dataframe tbody tr th:only-of-type {\n",
              "        vertical-align: middle;\n",
              "    }\n",
              "\n",
              "    .dataframe tbody tr th {\n",
              "        vertical-align: top;\n",
              "    }\n",
              "\n",
              "    .dataframe thead th {\n",
              "        text-align: right;\n",
              "    }\n",
              "</style>\n",
              "<table border=\"1\" class=\"dataframe\">\n",
              "  <thead>\n",
              "    <tr style=\"text-align: right;\">\n",
              "      <th></th>\n",
              "      <th>year</th>\n",
              "      <th>amount</th>\n",
              "      <th>duration</th>\n",
              "      <th>payments</th>\n",
              "      <th>A11</th>\n",
              "      <th>A13</th>\n",
              "      <th>label</th>\n",
              "    </tr>\n",
              "  </thead>\n",
              "  <tbody>\n",
              "    <tr>\n",
              "      <th>0</th>\n",
              "      <td>93</td>\n",
              "      <td>96396</td>\n",
              "      <td>12</td>\n",
              "      <td>8033</td>\n",
              "      <td>9650</td>\n",
              "      <td>3.67</td>\n",
              "      <td>0</td>\n",
              "    </tr>\n",
              "    <tr>\n",
              "      <th>1</th>\n",
              "      <td>93</td>\n",
              "      <td>165960</td>\n",
              "      <td>36</td>\n",
              "      <td>4610</td>\n",
              "      <td>8369</td>\n",
              "      <td>2.31</td>\n",
              "      <td>1</td>\n",
              "    </tr>\n",
              "    <tr>\n",
              "      <th>2</th>\n",
              "      <td>93</td>\n",
              "      <td>127080</td>\n",
              "      <td>60</td>\n",
              "      <td>2118</td>\n",
              "      <td>8390</td>\n",
              "      <td>2.89</td>\n",
              "      <td>1</td>\n",
              "    </tr>\n",
              "    <tr>\n",
              "      <th>3</th>\n",
              "      <td>93</td>\n",
              "      <td>105804</td>\n",
              "      <td>36</td>\n",
              "      <td>2939</td>\n",
              "      <td>8754</td>\n",
              "      <td>4.31</td>\n",
              "      <td>1</td>\n",
              "    </tr>\n",
              "    <tr>\n",
              "      <th>4</th>\n",
              "      <td>93</td>\n",
              "      <td>274740</td>\n",
              "      <td>60</td>\n",
              "      <td>4579</td>\n",
              "      <td>12541</td>\n",
              "      <td>0.43</td>\n",
              "      <td>1</td>\n",
              "    </tr>\n",
              "  </tbody>\n",
              "</table>\n",
              "</div>\n",
              "      <button class=\"colab-df-convert\" onclick=\"convertToInteractive('df-68534360-8920-40f9-a345-89410dee7703')\"\n",
              "              title=\"Convert this dataframe to an interactive table.\"\n",
              "              style=\"display:none;\">\n",
              "        \n",
              "  <svg xmlns=\"http://www.w3.org/2000/svg\" height=\"24px\"viewBox=\"0 0 24 24\"\n",
              "       width=\"24px\">\n",
              "    <path d=\"M0 0h24v24H0V0z\" fill=\"none\"/>\n",
              "    <path d=\"M18.56 5.44l.94 2.06.94-2.06 2.06-.94-2.06-.94-.94-2.06-.94 2.06-2.06.94zm-11 1L8.5 8.5l.94-2.06 2.06-.94-2.06-.94L8.5 2.5l-.94 2.06-2.06.94zm10 10l.94 2.06.94-2.06 2.06-.94-2.06-.94-.94-2.06-.94 2.06-2.06.94z\"/><path d=\"M17.41 7.96l-1.37-1.37c-.4-.4-.92-.59-1.43-.59-.52 0-1.04.2-1.43.59L10.3 9.45l-7.72 7.72c-.78.78-.78 2.05 0 2.83L4 21.41c.39.39.9.59 1.41.59.51 0 1.02-.2 1.41-.59l7.78-7.78 2.81-2.81c.8-.78.8-2.07 0-2.86zM5.41 20L4 18.59l7.72-7.72 1.47 1.35L5.41 20z\"/>\n",
              "  </svg>\n",
              "      </button>\n",
              "      \n",
              "  <style>\n",
              "    .colab-df-container {\n",
              "      display:flex;\n",
              "      flex-wrap:wrap;\n",
              "      gap: 12px;\n",
              "    }\n",
              "\n",
              "    .colab-df-convert {\n",
              "      background-color: #E8F0FE;\n",
              "      border: none;\n",
              "      border-radius: 50%;\n",
              "      cursor: pointer;\n",
              "      display: none;\n",
              "      fill: #1967D2;\n",
              "      height: 32px;\n",
              "      padding: 0 0 0 0;\n",
              "      width: 32px;\n",
              "    }\n",
              "\n",
              "    .colab-df-convert:hover {\n",
              "      background-color: #E2EBFA;\n",
              "      box-shadow: 0px 1px 2px rgba(60, 64, 67, 0.3), 0px 1px 3px 1px rgba(60, 64, 67, 0.15);\n",
              "      fill: #174EA6;\n",
              "    }\n",
              "\n",
              "    [theme=dark] .colab-df-convert {\n",
              "      background-color: #3B4455;\n",
              "      fill: #D2E3FC;\n",
              "    }\n",
              "\n",
              "    [theme=dark] .colab-df-convert:hover {\n",
              "      background-color: #434B5C;\n",
              "      box-shadow: 0px 1px 3px 1px rgba(0, 0, 0, 0.15);\n",
              "      filter: drop-shadow(0px 1px 2px rgba(0, 0, 0, 0.3));\n",
              "      fill: #FFFFFF;\n",
              "    }\n",
              "  </style>\n",
              "\n",
              "      <script>\n",
              "        const buttonEl =\n",
              "          document.querySelector('#df-68534360-8920-40f9-a345-89410dee7703 button.colab-df-convert');\n",
              "        buttonEl.style.display =\n",
              "          google.colab.kernel.accessAllowed ? 'block' : 'none';\n",
              "\n",
              "        async function convertToInteractive(key) {\n",
              "          const element = document.querySelector('#df-68534360-8920-40f9-a345-89410dee7703');\n",
              "          const dataTable =\n",
              "            await google.colab.kernel.invokeFunction('convertToInteractive',\n",
              "                                                     [key], {});\n",
              "          if (!dataTable) return;\n",
              "\n",
              "          const docLinkHtml = 'Like what you see? Visit the ' +\n",
              "            '<a target=\"_blank\" href=https://colab.research.google.com/notebooks/data_table.ipynb>data table notebook</a>'\n",
              "            + ' to learn more about interactive tables.';\n",
              "          element.innerHTML = '';\n",
              "          dataTable['output_type'] = 'display_data';\n",
              "          await google.colab.output.renderOutput(dataTable, element);\n",
              "          const docLink = document.createElement('div');\n",
              "          docLink.innerHTML = docLinkHtml;\n",
              "          element.appendChild(docLink);\n",
              "        }\n",
              "      </script>\n",
              "    </div>\n",
              "  </div>\n",
              "  "
            ]
          },
          "metadata": {},
          "execution_count": 7
        }
      ]
    },
    {
      "cell_type": "code",
      "source": [
        "df_train.shape"
      ],
      "metadata": {
        "colab": {
          "base_uri": "https://localhost:8080/"
        },
        "id": "75rgtscNqQ3T",
        "outputId": "1479b49d-e67b-4c51-af06-80580f3e5c4c"
      },
      "execution_count": null,
      "outputs": [
        {
          "output_type": "execute_result",
          "data": {
            "text/plain": [
              "(234, 7)"
            ]
          },
          "metadata": {},
          "execution_count": 8
        }
      ]
    },
    {
      "cell_type": "code",
      "source": [
        "# Datos Test, en este caso se seleccionarán los grupos C y D. \n",
        "%%sql loans_test << SELECT substr(l.date,0,3) year, amount, duration, payments, A11, A13,\n",
        "  CASE status WHEN 'C' THEN 1\n",
        "              WHEN 'D' THEN 0\n",
        "  END label\n",
        "  FROM LOAN l, ACCOUNT a INNER JOIN DISTRICT d on a.district_id = d.A1 \n",
        "  WHERE l.account_id = a.account_id and l.status in (\"C\", \"D\")"
      ],
      "metadata": {
        "colab": {
          "base_uri": "https://localhost:8080/"
        },
        "id": "i65WhpR4k9fk",
        "outputId": "abacdead-dd78-495c-a446-e5cb70e6171e"
      },
      "execution_count": null,
      "outputs": [
        {
          "output_type": "stream",
          "name": "stdout",
          "text": [
            " * sqlite:///data_berka.db\n",
            "Done.\n",
            "Returning data to local variable loans_test\n"
          ]
        }
      ]
    },
    {
      "cell_type": "code",
      "source": [
        "df_test = loans_test.DataFrame()\n",
        "df_test.head()"
      ],
      "metadata": {
        "colab": {
          "base_uri": "https://localhost:8080/",
          "height": 206
        },
        "id": "HQTE2VNX7Qqm",
        "outputId": "d2a67713-bafa-4107-9c9e-02af5c0762b6"
      },
      "execution_count": null,
      "outputs": [
        {
          "output_type": "execute_result",
          "data": {
            "text/plain": [
              "  year  amount  duration  payments   A11   A13  label\n",
              "0   94  253200        60      4220  9893  4.72      1\n",
              "1   94  300660        60      5011  9317  7.07      1\n",
              "2   94  167100        60      2785  8544  1.86      1\n",
              "3   94  149340        60      2489  8254  3.76      1\n",
              "4   94   89040        60      1484  8909  5.56      1"
            ],
            "text/html": [
              "\n",
              "  <div id=\"df-eed31690-9d4c-4fb4-be3f-997432b7a412\">\n",
              "    <div class=\"colab-df-container\">\n",
              "      <div>\n",
              "<style scoped>\n",
              "    .dataframe tbody tr th:only-of-type {\n",
              "        vertical-align: middle;\n",
              "    }\n",
              "\n",
              "    .dataframe tbody tr th {\n",
              "        vertical-align: top;\n",
              "    }\n",
              "\n",
              "    .dataframe thead th {\n",
              "        text-align: right;\n",
              "    }\n",
              "</style>\n",
              "<table border=\"1\" class=\"dataframe\">\n",
              "  <thead>\n",
              "    <tr style=\"text-align: right;\">\n",
              "      <th></th>\n",
              "      <th>year</th>\n",
              "      <th>amount</th>\n",
              "      <th>duration</th>\n",
              "      <th>payments</th>\n",
              "      <th>A11</th>\n",
              "      <th>A13</th>\n",
              "      <th>label</th>\n",
              "    </tr>\n",
              "  </thead>\n",
              "  <tbody>\n",
              "    <tr>\n",
              "      <th>0</th>\n",
              "      <td>94</td>\n",
              "      <td>253200</td>\n",
              "      <td>60</td>\n",
              "      <td>4220</td>\n",
              "      <td>9893</td>\n",
              "      <td>4.72</td>\n",
              "      <td>1</td>\n",
              "    </tr>\n",
              "    <tr>\n",
              "      <th>1</th>\n",
              "      <td>94</td>\n",
              "      <td>300660</td>\n",
              "      <td>60</td>\n",
              "      <td>5011</td>\n",
              "      <td>9317</td>\n",
              "      <td>7.07</td>\n",
              "      <td>1</td>\n",
              "    </tr>\n",
              "    <tr>\n",
              "      <th>2</th>\n",
              "      <td>94</td>\n",
              "      <td>167100</td>\n",
              "      <td>60</td>\n",
              "      <td>2785</td>\n",
              "      <td>8544</td>\n",
              "      <td>1.86</td>\n",
              "      <td>1</td>\n",
              "    </tr>\n",
              "    <tr>\n",
              "      <th>3</th>\n",
              "      <td>94</td>\n",
              "      <td>149340</td>\n",
              "      <td>60</td>\n",
              "      <td>2489</td>\n",
              "      <td>8254</td>\n",
              "      <td>3.76</td>\n",
              "      <td>1</td>\n",
              "    </tr>\n",
              "    <tr>\n",
              "      <th>4</th>\n",
              "      <td>94</td>\n",
              "      <td>89040</td>\n",
              "      <td>60</td>\n",
              "      <td>1484</td>\n",
              "      <td>8909</td>\n",
              "      <td>5.56</td>\n",
              "      <td>1</td>\n",
              "    </tr>\n",
              "  </tbody>\n",
              "</table>\n",
              "</div>\n",
              "      <button class=\"colab-df-convert\" onclick=\"convertToInteractive('df-eed31690-9d4c-4fb4-be3f-997432b7a412')\"\n",
              "              title=\"Convert this dataframe to an interactive table.\"\n",
              "              style=\"display:none;\">\n",
              "        \n",
              "  <svg xmlns=\"http://www.w3.org/2000/svg\" height=\"24px\"viewBox=\"0 0 24 24\"\n",
              "       width=\"24px\">\n",
              "    <path d=\"M0 0h24v24H0V0z\" fill=\"none\"/>\n",
              "    <path d=\"M18.56 5.44l.94 2.06.94-2.06 2.06-.94-2.06-.94-.94-2.06-.94 2.06-2.06.94zm-11 1L8.5 8.5l.94-2.06 2.06-.94-2.06-.94L8.5 2.5l-.94 2.06-2.06.94zm10 10l.94 2.06.94-2.06 2.06-.94-2.06-.94-.94-2.06-.94 2.06-2.06.94z\"/><path d=\"M17.41 7.96l-1.37-1.37c-.4-.4-.92-.59-1.43-.59-.52 0-1.04.2-1.43.59L10.3 9.45l-7.72 7.72c-.78.78-.78 2.05 0 2.83L4 21.41c.39.39.9.59 1.41.59.51 0 1.02-.2 1.41-.59l7.78-7.78 2.81-2.81c.8-.78.8-2.07 0-2.86zM5.41 20L4 18.59l7.72-7.72 1.47 1.35L5.41 20z\"/>\n",
              "  </svg>\n",
              "      </button>\n",
              "      \n",
              "  <style>\n",
              "    .colab-df-container {\n",
              "      display:flex;\n",
              "      flex-wrap:wrap;\n",
              "      gap: 12px;\n",
              "    }\n",
              "\n",
              "    .colab-df-convert {\n",
              "      background-color: #E8F0FE;\n",
              "      border: none;\n",
              "      border-radius: 50%;\n",
              "      cursor: pointer;\n",
              "      display: none;\n",
              "      fill: #1967D2;\n",
              "      height: 32px;\n",
              "      padding: 0 0 0 0;\n",
              "      width: 32px;\n",
              "    }\n",
              "\n",
              "    .colab-df-convert:hover {\n",
              "      background-color: #E2EBFA;\n",
              "      box-shadow: 0px 1px 2px rgba(60, 64, 67, 0.3), 0px 1px 3px 1px rgba(60, 64, 67, 0.15);\n",
              "      fill: #174EA6;\n",
              "    }\n",
              "\n",
              "    [theme=dark] .colab-df-convert {\n",
              "      background-color: #3B4455;\n",
              "      fill: #D2E3FC;\n",
              "    }\n",
              "\n",
              "    [theme=dark] .colab-df-convert:hover {\n",
              "      background-color: #434B5C;\n",
              "      box-shadow: 0px 1px 3px 1px rgba(0, 0, 0, 0.15);\n",
              "      filter: drop-shadow(0px 1px 2px rgba(0, 0, 0, 0.3));\n",
              "      fill: #FFFFFF;\n",
              "    }\n",
              "  </style>\n",
              "\n",
              "      <script>\n",
              "        const buttonEl =\n",
              "          document.querySelector('#df-eed31690-9d4c-4fb4-be3f-997432b7a412 button.colab-df-convert');\n",
              "        buttonEl.style.display =\n",
              "          google.colab.kernel.accessAllowed ? 'block' : 'none';\n",
              "\n",
              "        async function convertToInteractive(key) {\n",
              "          const element = document.querySelector('#df-eed31690-9d4c-4fb4-be3f-997432b7a412');\n",
              "          const dataTable =\n",
              "            await google.colab.kernel.invokeFunction('convertToInteractive',\n",
              "                                                     [key], {});\n",
              "          if (!dataTable) return;\n",
              "\n",
              "          const docLinkHtml = 'Like what you see? Visit the ' +\n",
              "            '<a target=\"_blank\" href=https://colab.research.google.com/notebooks/data_table.ipynb>data table notebook</a>'\n",
              "            + ' to learn more about interactive tables.';\n",
              "          element.innerHTML = '';\n",
              "          dataTable['output_type'] = 'display_data';\n",
              "          await google.colab.output.renderOutput(dataTable, element);\n",
              "          const docLink = document.createElement('div');\n",
              "          docLink.innerHTML = docLinkHtml;\n",
              "          element.appendChild(docLink);\n",
              "        }\n",
              "      </script>\n",
              "    </div>\n",
              "  </div>\n",
              "  "
            ]
          },
          "metadata": {},
          "execution_count": 10
        }
      ]
    },
    {
      "cell_type": "markdown",
      "source": [
        "Ejercicio: Añadir la edad del cliente propietario de la cuenta del prestamo.\n"
      ],
      "metadata": {
        "id": "6qRaWxnkcLC3"
      }
    },
    {
      "cell_type": "code",
      "source": [
        "%%sql loans_test_year << SELECT substr(l.date,0,3) year_loan, amount, duration, payments, A11, A13, 99 - substr(birth_number,0,3) edad ,l.date,\n",
        "CASE status WHEN 'C' THEN 1 \n",
        "            WHEN 'D' THEN 0\n",
        "END label\n",
        "FROM LOAN l, ACCOUNT a, DISTRICT dist, CLIENT c, DISPOSITION disp\n",
        "WHERE l.account_id = a.account_id and a.account_id = disp.account_id\n",
        "and disp.client_id = c.client_id and c.district_id = dist.a1 \n",
        "and l.status in (\"C\", \"D\")"
      ],
      "metadata": {
        "colab": {
          "base_uri": "https://localhost:8080/"
        },
        "id": "2OAwVZdYYsqx",
        "outputId": "17a40732-5782-4c4f-a9f9-ee9eb0ee99ce"
      },
      "execution_count": null,
      "outputs": [
        {
          "output_type": "stream",
          "name": "stdout",
          "text": [
            " * sqlite:///data_berka.db\n",
            "Done.\n",
            "Returning data to local variable loans_test_year\n"
          ]
        }
      ]
    },
    {
      "cell_type": "code",
      "source": [
        "df_test_year = loans_test_year.DataFrame()\n",
        "df_test_year.head()"
      ],
      "metadata": {
        "colab": {
          "base_uri": "https://localhost:8080/",
          "height": 206
        },
        "id": "l5HXuBTb35LF",
        "outputId": "b0e7e8c7-cfeb-4604-862e-eac1082222b9"
      },
      "execution_count": null,
      "outputs": [
        {
          "output_type": "execute_result",
          "data": {
            "text/plain": [
              "  year_loan  amount  duration  payments   A11   A13  edad    date  label\n",
              "0        98  318480        60      5308  8547  3.64    47  981014      0\n",
              "1        98  110736        48      2307  8402  3.98    59  980419      1\n",
              "2        97  265320        36      7370  8254  3.76    32  971206      0\n",
              "3        98  352704        48      7348  9104  2.07    49  981205      1\n",
              "4        97  162576        36      4516  9198  4.28    46  970908      1"
            ],
            "text/html": [
              "\n",
              "  <div id=\"df-9fa9de1b-a7bb-40bd-8a14-6955f984e09e\">\n",
              "    <div class=\"colab-df-container\">\n",
              "      <div>\n",
              "<style scoped>\n",
              "    .dataframe tbody tr th:only-of-type {\n",
              "        vertical-align: middle;\n",
              "    }\n",
              "\n",
              "    .dataframe tbody tr th {\n",
              "        vertical-align: top;\n",
              "    }\n",
              "\n",
              "    .dataframe thead th {\n",
              "        text-align: right;\n",
              "    }\n",
              "</style>\n",
              "<table border=\"1\" class=\"dataframe\">\n",
              "  <thead>\n",
              "    <tr style=\"text-align: right;\">\n",
              "      <th></th>\n",
              "      <th>year_loan</th>\n",
              "      <th>amount</th>\n",
              "      <th>duration</th>\n",
              "      <th>payments</th>\n",
              "      <th>A11</th>\n",
              "      <th>A13</th>\n",
              "      <th>edad</th>\n",
              "      <th>date</th>\n",
              "      <th>label</th>\n",
              "    </tr>\n",
              "  </thead>\n",
              "  <tbody>\n",
              "    <tr>\n",
              "      <th>0</th>\n",
              "      <td>98</td>\n",
              "      <td>318480</td>\n",
              "      <td>60</td>\n",
              "      <td>5308</td>\n",
              "      <td>8547</td>\n",
              "      <td>3.64</td>\n",
              "      <td>47</td>\n",
              "      <td>981014</td>\n",
              "      <td>0</td>\n",
              "    </tr>\n",
              "    <tr>\n",
              "      <th>1</th>\n",
              "      <td>98</td>\n",
              "      <td>110736</td>\n",
              "      <td>48</td>\n",
              "      <td>2307</td>\n",
              "      <td>8402</td>\n",
              "      <td>3.98</td>\n",
              "      <td>59</td>\n",
              "      <td>980419</td>\n",
              "      <td>1</td>\n",
              "    </tr>\n",
              "    <tr>\n",
              "      <th>2</th>\n",
              "      <td>97</td>\n",
              "      <td>265320</td>\n",
              "      <td>36</td>\n",
              "      <td>7370</td>\n",
              "      <td>8254</td>\n",
              "      <td>3.76</td>\n",
              "      <td>32</td>\n",
              "      <td>971206</td>\n",
              "      <td>0</td>\n",
              "    </tr>\n",
              "    <tr>\n",
              "      <th>3</th>\n",
              "      <td>98</td>\n",
              "      <td>352704</td>\n",
              "      <td>48</td>\n",
              "      <td>7348</td>\n",
              "      <td>9104</td>\n",
              "      <td>2.07</td>\n",
              "      <td>49</td>\n",
              "      <td>981205</td>\n",
              "      <td>1</td>\n",
              "    </tr>\n",
              "    <tr>\n",
              "      <th>4</th>\n",
              "      <td>97</td>\n",
              "      <td>162576</td>\n",
              "      <td>36</td>\n",
              "      <td>4516</td>\n",
              "      <td>9198</td>\n",
              "      <td>4.28</td>\n",
              "      <td>46</td>\n",
              "      <td>970908</td>\n",
              "      <td>1</td>\n",
              "    </tr>\n",
              "  </tbody>\n",
              "</table>\n",
              "</div>\n",
              "      <button class=\"colab-df-convert\" onclick=\"convertToInteractive('df-9fa9de1b-a7bb-40bd-8a14-6955f984e09e')\"\n",
              "              title=\"Convert this dataframe to an interactive table.\"\n",
              "              style=\"display:none;\">\n",
              "        \n",
              "  <svg xmlns=\"http://www.w3.org/2000/svg\" height=\"24px\"viewBox=\"0 0 24 24\"\n",
              "       width=\"24px\">\n",
              "    <path d=\"M0 0h24v24H0V0z\" fill=\"none\"/>\n",
              "    <path d=\"M18.56 5.44l.94 2.06.94-2.06 2.06-.94-2.06-.94-.94-2.06-.94 2.06-2.06.94zm-11 1L8.5 8.5l.94-2.06 2.06-.94-2.06-.94L8.5 2.5l-.94 2.06-2.06.94zm10 10l.94 2.06.94-2.06 2.06-.94-2.06-.94-.94-2.06-.94 2.06-2.06.94z\"/><path d=\"M17.41 7.96l-1.37-1.37c-.4-.4-.92-.59-1.43-.59-.52 0-1.04.2-1.43.59L10.3 9.45l-7.72 7.72c-.78.78-.78 2.05 0 2.83L4 21.41c.39.39.9.59 1.41.59.51 0 1.02-.2 1.41-.59l7.78-7.78 2.81-2.81c.8-.78.8-2.07 0-2.86zM5.41 20L4 18.59l7.72-7.72 1.47 1.35L5.41 20z\"/>\n",
              "  </svg>\n",
              "      </button>\n",
              "      \n",
              "  <style>\n",
              "    .colab-df-container {\n",
              "      display:flex;\n",
              "      flex-wrap:wrap;\n",
              "      gap: 12px;\n",
              "    }\n",
              "\n",
              "    .colab-df-convert {\n",
              "      background-color: #E8F0FE;\n",
              "      border: none;\n",
              "      border-radius: 50%;\n",
              "      cursor: pointer;\n",
              "      display: none;\n",
              "      fill: #1967D2;\n",
              "      height: 32px;\n",
              "      padding: 0 0 0 0;\n",
              "      width: 32px;\n",
              "    }\n",
              "\n",
              "    .colab-df-convert:hover {\n",
              "      background-color: #E2EBFA;\n",
              "      box-shadow: 0px 1px 2px rgba(60, 64, 67, 0.3), 0px 1px 3px 1px rgba(60, 64, 67, 0.15);\n",
              "      fill: #174EA6;\n",
              "    }\n",
              "\n",
              "    [theme=dark] .colab-df-convert {\n",
              "      background-color: #3B4455;\n",
              "      fill: #D2E3FC;\n",
              "    }\n",
              "\n",
              "    [theme=dark] .colab-df-convert:hover {\n",
              "      background-color: #434B5C;\n",
              "      box-shadow: 0px 1px 3px 1px rgba(0, 0, 0, 0.15);\n",
              "      filter: drop-shadow(0px 1px 2px rgba(0, 0, 0, 0.3));\n",
              "      fill: #FFFFFF;\n",
              "    }\n",
              "  </style>\n",
              "\n",
              "      <script>\n",
              "        const buttonEl =\n",
              "          document.querySelector('#df-9fa9de1b-a7bb-40bd-8a14-6955f984e09e button.colab-df-convert');\n",
              "        buttonEl.style.display =\n",
              "          google.colab.kernel.accessAllowed ? 'block' : 'none';\n",
              "\n",
              "        async function convertToInteractive(key) {\n",
              "          const element = document.querySelector('#df-9fa9de1b-a7bb-40bd-8a14-6955f984e09e');\n",
              "          const dataTable =\n",
              "            await google.colab.kernel.invokeFunction('convertToInteractive',\n",
              "                                                     [key], {});\n",
              "          if (!dataTable) return;\n",
              "\n",
              "          const docLinkHtml = 'Like what you see? Visit the ' +\n",
              "            '<a target=\"_blank\" href=https://colab.research.google.com/notebooks/data_table.ipynb>data table notebook</a>'\n",
              "            + ' to learn more about interactive tables.';\n",
              "          element.innerHTML = '';\n",
              "          dataTable['output_type'] = 'display_data';\n",
              "          await google.colab.output.renderOutput(dataTable, element);\n",
              "          const docLink = document.createElement('div');\n",
              "          docLink.innerHTML = docLinkHtml;\n",
              "          element.appendChild(docLink);\n",
              "        }\n",
              "      </script>\n",
              "    </div>\n",
              "  </div>\n",
              "  "
            ]
          },
          "metadata": {},
          "execution_count": 98
        }
      ]
    },
    {
      "cell_type": "markdown",
      "source": [
        "Ejercicio: Añadir la edad del cliente propietario de la cuenta del prestamo y algún campo de datos demográficos."
      ],
      "metadata": {
        "id": "cLjcrDOxcJDz"
      }
    },
    {
      "cell_type": "code",
      "source": [
        "%%sql loans_test_demographic << SELECT substr(l.date,0,3) year_loan, amount, duration, payments, A11, A13, 99 - substr(birth_number,0,3) edad ,l.date, A3 region,\n",
        "CASE status WHEN 'C' THEN 1 \n",
        "            WHEN 'D' THEN 0\n",
        "\n",
        "END label\n",
        "FROM LOAN l, ACCOUNT a, DISTRICT dist, CLIENT c, DISPOSITION disp\n",
        "WHERE l.account_id = a.account_id and a.account_id = disp.account_id\n",
        "and disp.client_id = c.client_id and c.district_id = dist.a1 \n",
        "and l.status in (\"C\", \"D\")"
      ],
      "metadata": {
        "colab": {
          "base_uri": "https://localhost:8080/"
        },
        "id": "eJiZgzehcIye",
        "outputId": "7c3b81aa-e91d-46d4-df05-3ef731952dc0"
      },
      "execution_count": null,
      "outputs": [
        {
          "output_type": "stream",
          "name": "stdout",
          "text": [
            " * sqlite:///data_berka.db\n",
            "Done.\n",
            "Returning data to local variable loans_test_demographic\n"
          ]
        }
      ]
    },
    {
      "cell_type": "code",
      "source": [
        "df_test_demographic = loans_test_demographic.DataFrame()\n",
        "df_test_demographic.head()"
      ],
      "metadata": {
        "colab": {
          "base_uri": "https://localhost:8080/",
          "height": 206
        },
        "id": "A5HWGKKK5u83",
        "outputId": "8fa2f84c-905b-4c1a-8765-f176cd53304c"
      },
      "execution_count": null,
      "outputs": [
        {
          "output_type": "execute_result",
          "data": {
            "text/plain": [
              "  year_loan  amount  duration  payments   A11   A13  edad    date  \\\n",
              "0        98  318480        60      5308  8547  3.64    47  981014   \n",
              "1        98  110736        48      2307  8402  3.98    59  980419   \n",
              "2        97  265320        36      7370  8254  3.76    32  971206   \n",
              "3        98  352704        48      7348  9104  2.07    49  981205   \n",
              "4        97  162576        36      4516  9198  4.28    46  970908   \n",
              "\n",
              "          region  label  \n",
              "0  south Bohemia      0  \n",
              "1  south Bohemia      1  \n",
              "2   east Bohemia      0  \n",
              "3  south Bohemia      1  \n",
              "4  north Bohemia      1  "
            ],
            "text/html": [
              "\n",
              "  <div id=\"df-2930c7b1-3137-4e31-9f87-a25a3d77d98b\">\n",
              "    <div class=\"colab-df-container\">\n",
              "      <div>\n",
              "<style scoped>\n",
              "    .dataframe tbody tr th:only-of-type {\n",
              "        vertical-align: middle;\n",
              "    }\n",
              "\n",
              "    .dataframe tbody tr th {\n",
              "        vertical-align: top;\n",
              "    }\n",
              "\n",
              "    .dataframe thead th {\n",
              "        text-align: right;\n",
              "    }\n",
              "</style>\n",
              "<table border=\"1\" class=\"dataframe\">\n",
              "  <thead>\n",
              "    <tr style=\"text-align: right;\">\n",
              "      <th></th>\n",
              "      <th>year_loan</th>\n",
              "      <th>amount</th>\n",
              "      <th>duration</th>\n",
              "      <th>payments</th>\n",
              "      <th>A11</th>\n",
              "      <th>A13</th>\n",
              "      <th>edad</th>\n",
              "      <th>date</th>\n",
              "      <th>region</th>\n",
              "      <th>label</th>\n",
              "    </tr>\n",
              "  </thead>\n",
              "  <tbody>\n",
              "    <tr>\n",
              "      <th>0</th>\n",
              "      <td>98</td>\n",
              "      <td>318480</td>\n",
              "      <td>60</td>\n",
              "      <td>5308</td>\n",
              "      <td>8547</td>\n",
              "      <td>3.64</td>\n",
              "      <td>47</td>\n",
              "      <td>981014</td>\n",
              "      <td>south Bohemia</td>\n",
              "      <td>0</td>\n",
              "    </tr>\n",
              "    <tr>\n",
              "      <th>1</th>\n",
              "      <td>98</td>\n",
              "      <td>110736</td>\n",
              "      <td>48</td>\n",
              "      <td>2307</td>\n",
              "      <td>8402</td>\n",
              "      <td>3.98</td>\n",
              "      <td>59</td>\n",
              "      <td>980419</td>\n",
              "      <td>south Bohemia</td>\n",
              "      <td>1</td>\n",
              "    </tr>\n",
              "    <tr>\n",
              "      <th>2</th>\n",
              "      <td>97</td>\n",
              "      <td>265320</td>\n",
              "      <td>36</td>\n",
              "      <td>7370</td>\n",
              "      <td>8254</td>\n",
              "      <td>3.76</td>\n",
              "      <td>32</td>\n",
              "      <td>971206</td>\n",
              "      <td>east Bohemia</td>\n",
              "      <td>0</td>\n",
              "    </tr>\n",
              "    <tr>\n",
              "      <th>3</th>\n",
              "      <td>98</td>\n",
              "      <td>352704</td>\n",
              "      <td>48</td>\n",
              "      <td>7348</td>\n",
              "      <td>9104</td>\n",
              "      <td>2.07</td>\n",
              "      <td>49</td>\n",
              "      <td>981205</td>\n",
              "      <td>south Bohemia</td>\n",
              "      <td>1</td>\n",
              "    </tr>\n",
              "    <tr>\n",
              "      <th>4</th>\n",
              "      <td>97</td>\n",
              "      <td>162576</td>\n",
              "      <td>36</td>\n",
              "      <td>4516</td>\n",
              "      <td>9198</td>\n",
              "      <td>4.28</td>\n",
              "      <td>46</td>\n",
              "      <td>970908</td>\n",
              "      <td>north Bohemia</td>\n",
              "      <td>1</td>\n",
              "    </tr>\n",
              "  </tbody>\n",
              "</table>\n",
              "</div>\n",
              "      <button class=\"colab-df-convert\" onclick=\"convertToInteractive('df-2930c7b1-3137-4e31-9f87-a25a3d77d98b')\"\n",
              "              title=\"Convert this dataframe to an interactive table.\"\n",
              "              style=\"display:none;\">\n",
              "        \n",
              "  <svg xmlns=\"http://www.w3.org/2000/svg\" height=\"24px\"viewBox=\"0 0 24 24\"\n",
              "       width=\"24px\">\n",
              "    <path d=\"M0 0h24v24H0V0z\" fill=\"none\"/>\n",
              "    <path d=\"M18.56 5.44l.94 2.06.94-2.06 2.06-.94-2.06-.94-.94-2.06-.94 2.06-2.06.94zm-11 1L8.5 8.5l.94-2.06 2.06-.94-2.06-.94L8.5 2.5l-.94 2.06-2.06.94zm10 10l.94 2.06.94-2.06 2.06-.94-2.06-.94-.94-2.06-.94 2.06-2.06.94z\"/><path d=\"M17.41 7.96l-1.37-1.37c-.4-.4-.92-.59-1.43-.59-.52 0-1.04.2-1.43.59L10.3 9.45l-7.72 7.72c-.78.78-.78 2.05 0 2.83L4 21.41c.39.39.9.59 1.41.59.51 0 1.02-.2 1.41-.59l7.78-7.78 2.81-2.81c.8-.78.8-2.07 0-2.86zM5.41 20L4 18.59l7.72-7.72 1.47 1.35L5.41 20z\"/>\n",
              "  </svg>\n",
              "      </button>\n",
              "      \n",
              "  <style>\n",
              "    .colab-df-container {\n",
              "      display:flex;\n",
              "      flex-wrap:wrap;\n",
              "      gap: 12px;\n",
              "    }\n",
              "\n",
              "    .colab-df-convert {\n",
              "      background-color: #E8F0FE;\n",
              "      border: none;\n",
              "      border-radius: 50%;\n",
              "      cursor: pointer;\n",
              "      display: none;\n",
              "      fill: #1967D2;\n",
              "      height: 32px;\n",
              "      padding: 0 0 0 0;\n",
              "      width: 32px;\n",
              "    }\n",
              "\n",
              "    .colab-df-convert:hover {\n",
              "      background-color: #E2EBFA;\n",
              "      box-shadow: 0px 1px 2px rgba(60, 64, 67, 0.3), 0px 1px 3px 1px rgba(60, 64, 67, 0.15);\n",
              "      fill: #174EA6;\n",
              "    }\n",
              "\n",
              "    [theme=dark] .colab-df-convert {\n",
              "      background-color: #3B4455;\n",
              "      fill: #D2E3FC;\n",
              "    }\n",
              "\n",
              "    [theme=dark] .colab-df-convert:hover {\n",
              "      background-color: #434B5C;\n",
              "      box-shadow: 0px 1px 3px 1px rgba(0, 0, 0, 0.15);\n",
              "      filter: drop-shadow(0px 1px 2px rgba(0, 0, 0, 0.3));\n",
              "      fill: #FFFFFF;\n",
              "    }\n",
              "  </style>\n",
              "\n",
              "      <script>\n",
              "        const buttonEl =\n",
              "          document.querySelector('#df-2930c7b1-3137-4e31-9f87-a25a3d77d98b button.colab-df-convert');\n",
              "        buttonEl.style.display =\n",
              "          google.colab.kernel.accessAllowed ? 'block' : 'none';\n",
              "\n",
              "        async function convertToInteractive(key) {\n",
              "          const element = document.querySelector('#df-2930c7b1-3137-4e31-9f87-a25a3d77d98b');\n",
              "          const dataTable =\n",
              "            await google.colab.kernel.invokeFunction('convertToInteractive',\n",
              "                                                     [key], {});\n",
              "          if (!dataTable) return;\n",
              "\n",
              "          const docLinkHtml = 'Like what you see? Visit the ' +\n",
              "            '<a target=\"_blank\" href=https://colab.research.google.com/notebooks/data_table.ipynb>data table notebook</a>'\n",
              "            + ' to learn more about interactive tables.';\n",
              "          element.innerHTML = '';\n",
              "          dataTable['output_type'] = 'display_data';\n",
              "          await google.colab.output.renderOutput(dataTable, element);\n",
              "          const docLink = document.createElement('div');\n",
              "          docLink.innerHTML = docLinkHtml;\n",
              "          element.appendChild(docLink);\n",
              "        }\n",
              "      </script>\n",
              "    </div>\n",
              "  </div>\n",
              "  "
            ]
          },
          "metadata": {},
          "execution_count": 100
        }
      ]
    },
    {
      "cell_type": "markdown",
      "metadata": {
        "id": "AcgHrYibsQn3"
      },
      "source": [
        "4. División de los datos en entrenamiento y test"
      ]
    },
    {
      "cell_type": "code",
      "source": [
        "features = [\"year\", \"amount\", \"duration\", \"payments\",\"A11\", \"A13\"]"
      ],
      "metadata": {
        "id": "mH1b4h27kA85"
      },
      "execution_count": null,
      "outputs": []
    },
    {
      "cell_type": "code",
      "metadata": {
        "id": "iRV2W22-sTKg"
      },
      "source": [
        "X_train = df_train[features]\n",
        "y_train = df_train[\"label\"]\n",
        "\n",
        "X_test = df_test[features]\n",
        "y_test = df_test[\"label\"]"
      ],
      "execution_count": null,
      "outputs": []
    },
    {
      "cell_type": "markdown",
      "source": [
        "5. Normalizarlos puede ser una buena medida para obtener mejores resultados.\n",
        "Para ello vamos a utilizar el [StandardScaler](https://scikit-learn.org/stable/modules/generated/sklearn.preprocessing.StandardScaler.html)\n",
        "\n",
        "El centrado y el escalado se realizan de forma independiente en cada característica, calculando las estadísticas pertinentes en las muestras del **conjunto de entrenamiento**. La media y la desviación estándar se almacenan para utilizarlas en datos posteriores mediante una **transformación**.\n",
        "\n",
        "Mas información sobre normalización en el siguiente [enlace](https://scikit-learn.org/stable/modules/preprocessing.html#preprocessing-scaler)\n"
      ],
      "metadata": {
        "id": "TWn1Xr-Cqas7"
      }
    },
    {
      "cell_type": "code",
      "source": [
        "from sklearn.preprocessing import StandardScaler \n",
        "scaler = StandardScaler()\n",
        "# calculo de los factores de centrado y escalado\n",
        "scaler.fit(X_train) \n",
        "# transformación\n",
        "X_train = scaler.transform(X_train)\n",
        "X_test = scaler.transform(X_test)"
      ],
      "metadata": {
        "id": "BaaMrekmpKH3"
      },
      "execution_count": null,
      "outputs": []
    },
    {
      "cell_type": "markdown",
      "source": [
        "Aplicamos un modelo [NaiveBayes](https://scikit-learn.org/stable/modules/naive_bayes.html?highlight=naive+bayes) para construir un clasificador de préstamos"
      ],
      "metadata": {
        "id": "Uf-IVArsl8qM"
      }
    },
    {
      "cell_type": "markdown",
      "source": [
        "Cabe destacar que existen diferentes modelos de Naive Bayes (Gaussian Naive Bayes, Bayesiano ingenuo multinomial, Complemento Naive Bayes, Bernoulli Naïve Bayes, Bayesiano ingenuo categórico). Se usará un modelo o otro dependiendo del tipo que sea la variable."
      ],
      "metadata": {
        "id": "6_LZGBMd8cFj"
      }
    },
    {
      "cell_type": "code",
      "source": [
        "from sklearn.naive_bayes import GaussianNB #, MultinomialNB, BernoulliNB, ComplementNB\n",
        "\n",
        "gnb = GaussianNB()\n",
        "clf = gnb.fit(X_train, y_train)\n",
        "y_pred = clf.predict(X_test)\n",
        "print(\"Número de préstamos clasificados erroneamente %d de un total de  %d\"  % (X_test.shape[0], (y_test != y_pred).sum()))\n"
      ],
      "metadata": {
        "colab": {
          "base_uri": "https://localhost:8080/"
        },
        "id": "MZHrLj9inBOv",
        "outputId": "1ee09880-0989-4c9b-afce-d85496ef43f6"
      },
      "execution_count": null,
      "outputs": [
        {
          "output_type": "stream",
          "name": "stdout",
          "text": [
            "Número de préstamos clasificados erroneamente 448 de un total de  123\n"
          ]
        }
      ]
    },
    {
      "cell_type": "markdown",
      "source": [
        "Para ver que resultados tenemos sobre la colección de `test` utilizamos en primer lugar el informe de los resultados [`classification report`](https://scikit-learn.org/stable/modules/model_evaluation.html#classification-report)"
      ],
      "metadata": {
        "id": "sSXcCuddmOFV"
      }
    },
    {
      "cell_type": "code",
      "source": [
        "from sklearn.metrics import classification_report\n",
        "print(classification_report(y_test, y_pred, labels=clf.classes_))"
      ],
      "metadata": {
        "colab": {
          "base_uri": "https://localhost:8080/"
        },
        "id": "f9BITuBznBAC",
        "outputId": "2d5c7e11-8c25-4746-8f80-b32840f31400"
      },
      "execution_count": null,
      "outputs": [
        {
          "output_type": "stream",
          "name": "stdout",
          "text": [
            "              precision    recall  f1-score   support\n",
            "\n",
            "           0       0.20      0.60      0.31        45\n",
            "           1       0.94      0.74      0.83       403\n",
            "\n",
            "    accuracy                           0.73       448\n",
            "   macro avg       0.57      0.67      0.57       448\n",
            "weighted avg       0.87      0.73      0.78       448\n",
            "\n"
          ]
        }
      ]
    },
    {
      "cell_type": "markdown",
      "source": [
        "Y la [matriz de confusión](https://scikit-learn.org/stable/modules/generated/sklearn.metrics.ConfusionMatrixDisplay.html)"
      ],
      "metadata": {
        "id": "rosWtD4MnPAw"
      }
    },
    {
      "cell_type": "code",
      "source": [
        "import matplotlib.pyplot as plt\n",
        "from sklearn.metrics import confusion_matrix, ConfusionMatrixDisplay\n",
        "cm = confusion_matrix(y_test, y_pred, labels= clf.classes_)\n",
        "disp = ConfusionMatrixDisplay(confusion_matrix=cm, display_labels=clf.classes_)\n",
        "disp.plot()"
      ],
      "metadata": {
        "colab": {
          "base_uri": "https://localhost:8080/",
          "height": 296
        },
        "id": "qSZzOldtoOku",
        "outputId": "a4cf01c2-ddb9-4278-fe43-f6f84cc3c541"
      },
      "execution_count": null,
      "outputs": [
        {
          "output_type": "execute_result",
          "data": {
            "text/plain": [
              "<sklearn.metrics._plot.confusion_matrix.ConfusionMatrixDisplay at 0x7f9a55f52710>"
            ]
          },
          "metadata": {},
          "execution_count": 106
        },
        {
          "output_type": "display_data",
          "data": {
            "text/plain": [
              "<Figure size 432x288 with 2 Axes>"
            ],
            "image/png": "[encoded data removed]"
          },
          "metadata": {
            "needs_background": "light"
          }
        }
      ]
    },
    {
      "cell_type": "markdown",
      "source": [
        "**Ejercicios**\n",
        "\n",
        "Plantear el clasificador de préstamos añadiendo datos de otras tablas de la base de datos, u otros campos de las mismas tablas (edad del cliente, etc).\n",
        "\n",
        "Otras transformaciones: [Discretización](https://scikit-learn.org/stable/modules/preprocessing.html#preprocessing-discretization) y utilización de otros clasificadores NB"
      ],
      "metadata": {
        "id": "rPkodIffcBxb"
      }
    },
    {
      "cell_type": "code",
      "source": [
        "%%sql loans_train_2 << SELECT substr(l.date,0,3) year_loan, amount, duration, payments, A11, A13, 99 - substr(birth_number,0,3) edad ,l.date, A4 no_of_inhabitants,\n",
        "CASE status WHEN 'A' THEN 1 \n",
        "            WHEN 'B' THEN 0\n",
        "\n",
        "END label\n",
        "FROM LOAN l, ACCOUNT a, DISTRICT dist, CLIENT c, DISPOSITION disp\n",
        "WHERE l.account_id = a.account_id and a.account_id = disp.account_id\n",
        "and disp.client_id = c.client_id and c.district_id = dist.a1 \n",
        "and l.status in (\"A\", \"B\")"
      ],
      "metadata": {
        "id": "DBPrKmW0Ok6c",
        "colab": {
          "base_uri": "https://localhost:8080/"
        },
        "outputId": "3b0480e2-0135-4b79-f04a-1dab4afe5636"
      },
      "execution_count": null,
      "outputs": [
        {
          "output_type": "stream",
          "name": "stdout",
          "text": [
            " * sqlite:///data_berka.db\n",
            "Done.\n",
            "Returning data to local variable loans_train_2\n"
          ]
        }
      ]
    },
    {
      "cell_type": "code",
      "source": [
        "df_train_2 = loans_train_2.DataFrame()\n",
        "df_train_2.head()"
      ],
      "metadata": {
        "id": "W3w2ghm1Ok4B",
        "colab": {
          "base_uri": "https://localhost:8080/",
          "height": 206
        },
        "outputId": "1d6db02b-2ee4-4ce1-ddd2-74ca88e49b43"
      },
      "execution_count": null,
      "outputs": [
        {
          "output_type": "execute_result",
          "data": {
            "text/plain": [
              "  year_loan  amount  duration  payments    A11   A13  edad    date  \\\n",
              "0        94   80952        24      3373  12541  0.43    54  940105   \n",
              "1        94   80952        24      3373  12541  0.43    59  940105   \n",
              "2        96   30276        12      2523   9104  2.07    60  960429   \n",
              "3        97   30276        12      2523   9893  4.72    37  971208   \n",
              "4        96  165960        24      6915   8427  1.54    55  960502   \n",
              "\n",
              "   no_of_inhabitants  label  \n",
              "0            1204953      1  \n",
              "1            1204953      1  \n",
              "2             103347      0  \n",
              "3             228848      1  \n",
              "4              93931      1  "
            ],
            "text/html": [
              "\n",
              "  <div id=\"df-ed9472dc-87ec-49bc-8bd3-e05cd2af13d7\">\n",
              "    <div class=\"colab-df-container\">\n",
              "      <div>\n",
              "<style scoped>\n",
              "    .dataframe tbody tr th:only-of-type {\n",
              "        vertical-align: middle;\n",
              "    }\n",
              "\n",
              "    .dataframe tbody tr th {\n",
              "        vertical-align: top;\n",
              "    }\n",
              "\n",
              "    .dataframe thead th {\n",
              "        text-align: right;\n",
              "    }\n",
              "</style>\n",
              "<table border=\"1\" class=\"dataframe\">\n",
              "  <thead>\n",
              "    <tr style=\"text-align: right;\">\n",
              "      <th></th>\n",
              "      <th>year_loan</th>\n",
              "      <th>amount</th>\n",
              "      <th>duration</th>\n",
              "      <th>payments</th>\n",
              "      <th>A11</th>\n",
              "      <th>A13</th>\n",
              "      <th>edad</th>\n",
              "      <th>date</th>\n",
              "      <th>no_of_inhabitants</th>\n",
              "      <th>label</th>\n",
              "    </tr>\n",
              "  </thead>\n",
              "  <tbody>\n",
              "    <tr>\n",
              "      <th>0</th>\n",
              "      <td>94</td>\n",
              "      <td>80952</td>\n",
              "      <td>24</td>\n",
              "      <td>3373</td>\n",
              "      <td>12541</td>\n",
              "      <td>0.43</td>\n",
              "      <td>54</td>\n",
              "      <td>940105</td>\n",
              "      <td>1204953</td>\n",
              "      <td>1</td>\n",
              "    </tr>\n",
              "    <tr>\n",
              "      <th>1</th>\n",
              "      <td>94</td>\n",
              "      <td>80952</td>\n",
              "      <td>24</td>\n",
              "      <td>3373</td>\n",
              "      <td>12541</td>\n",
              "      <td>0.43</td>\n",
              "      <td>59</td>\n",
              "      <td>940105</td>\n",
              "      <td>1204953</td>\n",
              "      <td>1</td>\n",
              "    </tr>\n",
              "    <tr>\n",
              "      <th>2</th>\n",
              "      <td>96</td>\n",
              "      <td>30276</td>\n",
              "      <td>12</td>\n",
              "      <td>2523</td>\n",
              "      <td>9104</td>\n",
              "      <td>2.07</td>\n",
              "      <td>60</td>\n",
              "      <td>960429</td>\n",
              "      <td>103347</td>\n",
              "      <td>0</td>\n",
              "    </tr>\n",
              "    <tr>\n",
              "      <th>3</th>\n",
              "      <td>97</td>\n",
              "      <td>30276</td>\n",
              "      <td>12</td>\n",
              "      <td>2523</td>\n",
              "      <td>9893</td>\n",
              "      <td>4.72</td>\n",
              "      <td>37</td>\n",
              "      <td>971208</td>\n",
              "      <td>228848</td>\n",
              "      <td>1</td>\n",
              "    </tr>\n",
              "    <tr>\n",
              "      <th>4</th>\n",
              "      <td>96</td>\n",
              "      <td>165960</td>\n",
              "      <td>24</td>\n",
              "      <td>6915</td>\n",
              "      <td>8427</td>\n",
              "      <td>1.54</td>\n",
              "      <td>55</td>\n",
              "      <td>960502</td>\n",
              "      <td>93931</td>\n",
              "      <td>1</td>\n",
              "    </tr>\n",
              "  </tbody>\n",
              "</table>\n",
              "</div>\n",
              "      <button class=\"colab-df-convert\" onclick=\"convertToInteractive('df-ed9472dc-87ec-49bc-8bd3-e05cd2af13d7')\"\n",
              "              title=\"Convert this dataframe to an interactive table.\"\n",
              "              style=\"display:none;\">\n",
              "        \n",
              "  <svg xmlns=\"http://www.w3.org/2000/svg\" height=\"24px\"viewBox=\"0 0 24 24\"\n",
              "       width=\"24px\">\n",
              "    <path d=\"M0 0h24v24H0V0z\" fill=\"none\"/>\n",
              "    <path d=\"M18.56 5.44l.94 2.06.94-2.06 2.06-.94-2.06-.94-.94-2.06-.94 2.06-2.06.94zm-11 1L8.5 8.5l.94-2.06 2.06-.94-2.06-.94L8.5 2.5l-.94 2.06-2.06.94zm10 10l.94 2.06.94-2.06 2.06-.94-2.06-.94-.94-2.06-.94 2.06-2.06.94z\"/><path d=\"M17.41 7.96l-1.37-1.37c-.4-.4-.92-.59-1.43-.59-.52 0-1.04.2-1.43.59L10.3 9.45l-7.72 7.72c-.78.78-.78 2.05 0 2.83L4 21.41c.39.39.9.59 1.41.59.51 0 1.02-.2 1.41-.59l7.78-7.78 2.81-2.81c.8-.78.8-2.07 0-2.86zM5.41 20L4 18.59l7.72-7.72 1.47 1.35L5.41 20z\"/>\n",
              "  </svg>\n",
              "      </button>\n",
              "      \n",
              "  <style>\n",
              "    .colab-df-container {\n",
              "      display:flex;\n",
              "      flex-wrap:wrap;\n",
              "      gap: 12px;\n",
              "    }\n",
              "\n",
              "    .colab-df-convert {\n",
              "      background-color: #E8F0FE;\n",
              "      border: none;\n",
              "      border-radius: 50%;\n",
              "      cursor: pointer;\n",
              "      display: none;\n",
              "      fill: #1967D2;\n",
              "      height: 32px;\n",
              "      padding: 0 0 0 0;\n",
              "      width: 32px;\n",
              "    }\n",
              "\n",
              "    .colab-df-convert:hover {\n",
              "      background-color: #E2EBFA;\n",
              "      box-shadow: 0px 1px 2px rgba(60, 64, 67, 0.3), 0px 1px 3px 1px rgba(60, 64, 67, 0.15);\n",
              "      fill: #174EA6;\n",
              "    }\n",
              "\n",
              "    [theme=dark] .colab-df-convert {\n",
              "      background-color: #3B4455;\n",
              "      fill: #D2E3FC;\n",
              "    }\n",
              "\n",
              "    [theme=dark] .colab-df-convert:hover {\n",
              "      background-color: #434B5C;\n",
              "      box-shadow: 0px 1px 3px 1px rgba(0, 0, 0, 0.15);\n",
              "      filter: drop-shadow(0px 1px 2px rgba(0, 0, 0, 0.3));\n",
              "      fill: #FFFFFF;\n",
              "    }\n",
              "  </style>\n",
              "\n",
              "      <script>\n",
              "        const buttonEl =\n",
              "          document.querySelector('#df-ed9472dc-87ec-49bc-8bd3-e05cd2af13d7 button.colab-df-convert');\n",
              "        buttonEl.style.display =\n",
              "          google.colab.kernel.accessAllowed ? 'block' : 'none';\n",
              "\n",
              "        async function convertToInteractive(key) {\n",
              "          const element = document.querySelector('#df-ed9472dc-87ec-49bc-8bd3-e05cd2af13d7');\n",
              "          const dataTable =\n",
              "            await google.colab.kernel.invokeFunction('convertToInteractive',\n",
              "                                                     [key], {});\n",
              "          if (!dataTable) return;\n",
              "\n",
              "          const docLinkHtml = 'Like what you see? Visit the ' +\n",
              "            '<a target=\"_blank\" href=https://colab.research.google.com/notebooks/data_table.ipynb>data table notebook</a>'\n",
              "            + ' to learn more about interactive tables.';\n",
              "          element.innerHTML = '';\n",
              "          dataTable['output_type'] = 'display_data';\n",
              "          await google.colab.output.renderOutput(dataTable, element);\n",
              "          const docLink = document.createElement('div');\n",
              "          docLink.innerHTML = docLinkHtml;\n",
              "          element.appendChild(docLink);\n",
              "        }\n",
              "      </script>\n",
              "    </div>\n",
              "  </div>\n",
              "  "
            ]
          },
          "metadata": {},
          "execution_count": 85
        }
      ]
    },
    {
      "cell_type": "code",
      "source": [
        "df_train_2.shape"
      ],
      "metadata": {
        "colab": {
          "base_uri": "https://localhost:8080/"
        },
        "id": "Xf4Y2nvMeGwb",
        "outputId": "21a07304-e4d2-453f-bc9e-9e36300c7858"
      },
      "execution_count": null,
      "outputs": [
        {
          "output_type": "execute_result",
          "data": {
            "text/plain": [
              "(289, 10)"
            ]
          },
          "metadata": {},
          "execution_count": 89
        }
      ]
    },
    {
      "cell_type": "code",
      "source": [
        "%%sql loans_test_2 << SELECT substr(l.date,0,3) year_loan, amount, duration, payments, A11, A13, 99 - substr(birth_number,0,3) edad ,l.date, A4 no_of_inhabitants,\n",
        "CASE status WHEN 'C' THEN 1 \n",
        "            WHEN 'D' THEN 0\n",
        "\n",
        "END label\n",
        "FROM LOAN l, ACCOUNT a, DISTRICT dist, CLIENT c, DISPOSITION disp\n",
        "WHERE l.account_id = a.account_id and a.account_id = disp.account_id\n",
        "and disp.client_id = c.client_id and c.district_id = dist.a1 \n",
        "and l.status in (\"C\", \"D\")"
      ],
      "metadata": {
        "colab": {
          "base_uri": "https://localhost:8080/"
        },
        "id": "8RlefNqKeGlT",
        "outputId": "9fcf7a44-394f-405f-e08a-c660b1b378f1"
      },
      "execution_count": null,
      "outputs": [
        {
          "output_type": "stream",
          "name": "stdout",
          "text": [
            " * sqlite:///data_berka.db\n",
            "Done.\n",
            "Returning data to local variable loans_test_2\n"
          ]
        }
      ]
    },
    {
      "cell_type": "code",
      "source": [
        "df_test_2 = loans_test_2.DataFrame()\n",
        "df_test_2.head()"
      ],
      "metadata": {
        "colab": {
          "base_uri": "https://localhost:8080/",
          "height": 206
        },
        "id": "rz3_O8R5eJ0B",
        "outputId": "033c1c67-438d-4f96-94d3-6847552150a2"
      },
      "execution_count": null,
      "outputs": [
        {
          "output_type": "execute_result",
          "data": {
            "text/plain": [
              "  year_loan  amount  duration  payments   A11   A13  edad    date  \\\n",
              "0        98  318480        60      5308  8547  3.64    47  981014   \n",
              "1        98  110736        48      2307  8402  3.98    59  980419   \n",
              "2        97  265320        36      7370  8254  3.76    32  971206   \n",
              "3        98  352704        48      7348  9104  2.07    49  981205   \n",
              "4        97  162576        36      4516  9198  4.28    46  970908   \n",
              "\n",
              "   no_of_inhabitants  label  \n",
              "0              70646      0  \n",
              "1              51428      1  \n",
              "2             105606      0  \n",
              "3             103347      1  \n",
              "4             159617      1  "
            ],
            "text/html": [
              "\n",
              "  <div id=\"df-b7169cb5-04c7-42c4-8982-f7fac089714d\">\n",
              "    <div class=\"colab-df-container\">\n",
              "      <div>\n",
              "<style scoped>\n",
              "    .dataframe tbody tr th:only-of-type {\n",
              "        vertical-align: middle;\n",
              "    }\n",
              "\n",
              "    .dataframe tbody tr th {\n",
              "        vertical-align: top;\n",
              "    }\n",
              "\n",
              "    .dataframe thead th {\n",
              "        text-align: right;\n",
              "    }\n",
              "</style>\n",
              "<table border=\"1\" class=\"dataframe\">\n",
              "  <thead>\n",
              "    <tr style=\"text-align: right;\">\n",
              "      <th></th>\n",
              "      <th>year_loan</th>\n",
              "      <th>amount</th>\n",
              "      <th>duration</th>\n",
              "      <th>payments</th>\n",
              "      <th>A11</th>\n",
              "      <th>A13</th>\n",
              "      <th>edad</th>\n",
              "      <th>date</th>\n",
              "      <th>no_of_inhabitants</th>\n",
              "      <th>label</th>\n",
              "    </tr>\n",
              "  </thead>\n",
              "  <tbody>\n",
              "    <tr>\n",
              "      <th>0</th>\n",
              "      <td>98</td>\n",
              "      <td>318480</td>\n",
              "      <td>60</td>\n",
              "      <td>5308</td>\n",
              "      <td>8547</td>\n",
              "      <td>3.64</td>\n",
              "      <td>47</td>\n",
              "      <td>981014</td>\n",
              "      <td>70646</td>\n",
              "      <td>0</td>\n",
              "    </tr>\n",
              "    <tr>\n",
              "      <th>1</th>\n",
              "      <td>98</td>\n",
              "      <td>110736</td>\n",
              "      <td>48</td>\n",
              "      <td>2307</td>\n",
              "      <td>8402</td>\n",
              "      <td>3.98</td>\n",
              "      <td>59</td>\n",
              "      <td>980419</td>\n",
              "      <td>51428</td>\n",
              "      <td>1</td>\n",
              "    </tr>\n",
              "    <tr>\n",
              "      <th>2</th>\n",
              "      <td>97</td>\n",
              "      <td>265320</td>\n",
              "      <td>36</td>\n",
              "      <td>7370</td>\n",
              "      <td>8254</td>\n",
              "      <td>3.76</td>\n",
              "      <td>32</td>\n",
              "      <td>971206</td>\n",
              "      <td>105606</td>\n",
              "      <td>0</td>\n",
              "    </tr>\n",
              "    <tr>\n",
              "      <th>3</th>\n",
              "      <td>98</td>\n",
              "      <td>352704</td>\n",
              "      <td>48</td>\n",
              "      <td>7348</td>\n",
              "      <td>9104</td>\n",
              "      <td>2.07</td>\n",
              "      <td>49</td>\n",
              "      <td>981205</td>\n",
              "      <td>103347</td>\n",
              "      <td>1</td>\n",
              "    </tr>\n",
              "    <tr>\n",
              "      <th>4</th>\n",
              "      <td>97</td>\n",
              "      <td>162576</td>\n",
              "      <td>36</td>\n",
              "      <td>4516</td>\n",
              "      <td>9198</td>\n",
              "      <td>4.28</td>\n",
              "      <td>46</td>\n",
              "      <td>970908</td>\n",
              "      <td>159617</td>\n",
              "      <td>1</td>\n",
              "    </tr>\n",
              "  </tbody>\n",
              "</table>\n",
              "</div>\n",
              "      <button class=\"colab-df-convert\" onclick=\"convertToInteractive('df-b7169cb5-04c7-42c4-8982-f7fac089714d')\"\n",
              "              title=\"Convert this dataframe to an interactive table.\"\n",
              "              style=\"display:none;\">\n",
              "        \n",
              "  <svg xmlns=\"http://www.w3.org/2000/svg\" height=\"24px\"viewBox=\"0 0 24 24\"\n",
              "       width=\"24px\">\n",
              "    <path d=\"M0 0h24v24H0V0z\" fill=\"none\"/>\n",
              "    <path d=\"M18.56 5.44l.94 2.06.94-2.06 2.06-.94-2.06-.94-.94-2.06-.94 2.06-2.06.94zm-11 1L8.5 8.5l.94-2.06 2.06-.94-2.06-.94L8.5 2.5l-.94 2.06-2.06.94zm10 10l.94 2.06.94-2.06 2.06-.94-2.06-.94-.94-2.06-.94 2.06-2.06.94z\"/><path d=\"M17.41 7.96l-1.37-1.37c-.4-.4-.92-.59-1.43-.59-.52 0-1.04.2-1.43.59L10.3 9.45l-7.72 7.72c-.78.78-.78 2.05 0 2.83L4 21.41c.39.39.9.59 1.41.59.51 0 1.02-.2 1.41-.59l7.78-7.78 2.81-2.81c.8-.78.8-2.07 0-2.86zM5.41 20L4 18.59l7.72-7.72 1.47 1.35L5.41 20z\"/>\n",
              "  </svg>\n",
              "      </button>\n",
              "      \n",
              "  <style>\n",
              "    .colab-df-container {\n",
              "      display:flex;\n",
              "      flex-wrap:wrap;\n",
              "      gap: 12px;\n",
              "    }\n",
              "\n",
              "    .colab-df-convert {\n",
              "      background-color: #E8F0FE;\n",
              "      border: none;\n",
              "      border-radius: 50%;\n",
              "      cursor: pointer;\n",
              "      display: none;\n",
              "      fill: #1967D2;\n",
              "      height: 32px;\n",
              "      padding: 0 0 0 0;\n",
              "      width: 32px;\n",
              "    }\n",
              "\n",
              "    .colab-df-convert:hover {\n",
              "      background-color: #E2EBFA;\n",
              "      box-shadow: 0px 1px 2px rgba(60, 64, 67, 0.3), 0px 1px 3px 1px rgba(60, 64, 67, 0.15);\n",
              "      fill: #174EA6;\n",
              "    }\n",
              "\n",
              "    [theme=dark] .colab-df-convert {\n",
              "      background-color: #3B4455;\n",
              "      fill: #D2E3FC;\n",
              "    }\n",
              "\n",
              "    [theme=dark] .colab-df-convert:hover {\n",
              "      background-color: #434B5C;\n",
              "      box-shadow: 0px 1px 3px 1px rgba(0, 0, 0, 0.15);\n",
              "      filter: drop-shadow(0px 1px 2px rgba(0, 0, 0, 0.3));\n",
              "      fill: #FFFFFF;\n",
              "    }\n",
              "  </style>\n",
              "\n",
              "      <script>\n",
              "        const buttonEl =\n",
              "          document.querySelector('#df-b7169cb5-04c7-42c4-8982-f7fac089714d button.colab-df-convert');\n",
              "        buttonEl.style.display =\n",
              "          google.colab.kernel.accessAllowed ? 'block' : 'none';\n",
              "\n",
              "        async function convertToInteractive(key) {\n",
              "          const element = document.querySelector('#df-b7169cb5-04c7-42c4-8982-f7fac089714d');\n",
              "          const dataTable =\n",
              "            await google.colab.kernel.invokeFunction('convertToInteractive',\n",
              "                                                     [key], {});\n",
              "          if (!dataTable) return;\n",
              "\n",
              "          const docLinkHtml = 'Like what you see? Visit the ' +\n",
              "            '<a target=\"_blank\" href=https://colab.research.google.com/notebooks/data_table.ipynb>data table notebook</a>'\n",
              "            + ' to learn more about interactive tables.';\n",
              "          element.innerHTML = '';\n",
              "          dataTable['output_type'] = 'display_data';\n",
              "          await google.colab.output.renderOutput(dataTable, element);\n",
              "          const docLink = document.createElement('div');\n",
              "          docLink.innerHTML = docLinkHtml;\n",
              "          element.appendChild(docLink);\n",
              "        }\n",
              "      </script>\n",
              "    </div>\n",
              "  </div>\n",
              "  "
            ]
          },
          "metadata": {},
          "execution_count": 87
        }
      ]
    },
    {
      "cell_type": "code",
      "source": [
        "df_test_2.shape"
      ],
      "metadata": {
        "colab": {
          "base_uri": "https://localhost:8080/"
        },
        "id": "KjeejAYKeJtr",
        "outputId": "29c98b0d-34b0-445b-d6a9-df885b586059"
      },
      "execution_count": null,
      "outputs": [
        {
          "output_type": "execute_result",
          "data": {
            "text/plain": [
              "(538, 10)"
            ]
          },
          "metadata": {},
          "execution_count": 88
        }
      ]
    },
    {
      "cell_type": "markdown",
      "source": [
        "División de los datos de entrenamiento"
      ],
      "metadata": {
        "id": "1akwVEqneQSq"
      }
    },
    {
      "cell_type": "code",
      "source": [
        "features = [\"year_loan\", \"amount\", \"duration\", \"payments\",\"A11\", \"A13\", \"edad\", \"no_of_inhabitants\"]"
      ],
      "metadata": {
        "id": "pP_eIL5xBD2Q"
      },
      "execution_count": null,
      "outputs": []
    },
    {
      "cell_type": "code",
      "source": [
        "X_train_2 = df_train_2[features]\n",
        "y_train_2 = df_train_2[\"label\"]\n",
        "\n",
        "X_test_2 = df_test_2[features]\n",
        "y_test_2 = df_test_2[\"label\"]"
      ],
      "metadata": {
        "id": "QH1gjS1zeXcF"
      },
      "execution_count": null,
      "outputs": []
    },
    {
      "cell_type": "markdown",
      "source": [
        "Normalización:  "
      ],
      "metadata": {
        "id": "Esp-A2NYAjwM"
      }
    },
    {
      "cell_type": "code",
      "source": [
        "from sklearn.preprocessing import StandardScaler \n",
        "scaler = StandardScaler()\n",
        "# calculo de los factores de centrado y escalado\n",
        "scaler.fit(X_train_2) \n",
        "# transformación\n",
        "X_train_2 = scaler.transform(X_train_2)\n",
        "X_test_2 = scaler.transform(X_test_2)"
      ],
      "metadata": {
        "id": "rvTOt31beYUZ"
      },
      "execution_count": null,
      "outputs": []
    },
    {
      "cell_type": "markdown",
      "source": [
        "Aplicación de modelo Naive Bayes"
      ],
      "metadata": {
        "id": "UqZYJpfyC9Xc"
      }
    },
    {
      "cell_type": "code",
      "source": [
        "from sklearn.naive_bayes import GaussianNB #, MultinomialNB, BernoulliNB, ComplementNB\n",
        "\n",
        "gnb = GaussianNB()\n",
        "clf = gnb.fit(X_train_2, y_train_2)\n",
        "y_pred = clf.predict(X_test_2)\n",
        "print(\"Número de préstamos clasificados erroneamente %d de un total de  %d\"  % (X_test_2.shape[0], (y_test_2 != y_pred).sum()))"
      ],
      "metadata": {
        "colab": {
          "base_uri": "https://localhost:8080/"
        },
        "id": "LW4tWxb2eYRK",
        "outputId": "ecc85db4-3030-405b-b318-31c389d620d5"
      },
      "execution_count": null,
      "outputs": [
        {
          "output_type": "stream",
          "name": "stdout",
          "text": [
            "Número de préstamos clasificados erroneamente 538 de un total de  154\n"
          ]
        }
      ]
    },
    {
      "cell_type": "markdown",
      "source": [
        "Para ver que resultados tenemos sobre la colección de `test` utilizamos en primer lugar el informe de los resultados."
      ],
      "metadata": {
        "id": "YkgjhkyCEZaW"
      }
    },
    {
      "cell_type": "code",
      "source": [
        "from sklearn.metrics import classification_report\n",
        "print(classification_report(y_test_2, y_pred, labels=clf.classes_))"
      ],
      "metadata": {
        "colab": {
          "base_uri": "https://localhost:8080/"
        },
        "id": "9YQ1grjTeXoJ",
        "outputId": "198814ca-22df-42e3-aa63-5ecc17427bbb"
      },
      "execution_count": null,
      "outputs": [
        {
          "output_type": "stream",
          "name": "stdout",
          "text": [
            "              precision    recall  f1-score   support\n",
            "\n",
            "           0       0.17      0.60      0.26        45\n",
            "           1       0.95      0.72      0.82       493\n",
            "\n",
            "    accuracy                           0.71       538\n",
            "   macro avg       0.56      0.66      0.54       538\n",
            "weighted avg       0.89      0.71      0.78       538\n",
            "\n"
          ]
        }
      ]
    },
    {
      "cell_type": "markdown",
      "source": [
        "Matriz de confusión."
      ],
      "metadata": {
        "id": "8p1UR7kzEdnS"
      }
    },
    {
      "cell_type": "code",
      "source": [
        "import matplotlib.pyplot as plt\n",
        "from sklearn.metrics import confusion_matrix, ConfusionMatrixDisplay\n",
        "cm = confusion_matrix(y_test_2, y_pred, labels= clf.classes_)\n",
        "disp = ConfusionMatrixDisplay(confusion_matrix=cm, display_labels=clf.classes_)\n",
        "disp.plot()"
      ],
      "metadata": {
        "colab": {
          "base_uri": "https://localhost:8080/",
          "height": 296
        },
        "id": "9BB2hPk0ehGI",
        "outputId": "3c03f2f2-afac-4acd-8915-1d77998acd8f"
      },
      "execution_count": null,
      "outputs": [
        {
          "output_type": "execute_result",
          "data": {
            "text/plain": [
              "<sklearn.metrics._plot.confusion_matrix.ConfusionMatrixDisplay at 0x7f9a498d1750>"
            ]
          },
          "metadata": {},
          "execution_count": 96
        },
        {
          "output_type": "display_data",
          "data": {
            "text/plain": [
              "<Figure size 432x288 with 2 Axes>"
            ],
            "image/png": "[encoded data removed]"
          },
          "metadata": {
            "needs_background": "light"
          }
        }
      ]
    }
  ]
}