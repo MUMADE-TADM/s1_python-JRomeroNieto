{
  "nbformat": 4,
  "nbformat_minor": 0,
  "metadata": {
    "colab": {
      "provenance": [],
      "private_outputs": true,
      "include_colab_link": true
    },
    "kernelspec": {
      "name": "python3",
      "display_name": "Python 3"
    }
  },
  "cells": [
    {
      "cell_type": "markdown",
      "metadata": {
        "id": "view-in-github",
        "colab_type": "text"
      },
      "source": [
        "<a href=\"https://colab.research.google.com/github/MUMADE-TADM/s1_python-JRomeroNieto/blob/main/Titanic_Ejercicio_(JRomero).ipynb\" target=\"_parent\"><img src=\"https://colab.research.google.com/assets/colab-badge.svg\" alt=\"Open In Colab\"/></a>"
      ]
    },
    {
      "cell_type": "markdown",
      "metadata": {
        "id": "SokvQ-3OsEL4"
      },
      "source": [
        "# ¿Que influyó en las muertes de pasajeros del Titanic?\n",
        " ¿La clase de pasaje? ¿La edad? ¿El costo del pasaje?"
      ]
    },
    {
      "cell_type": "markdown",
      "metadata": {
        "id": "l3A2XWchso3t"
      },
      "source": [
        "# Copie este notebook en su cuenta junto con los datos **titanic.csv** \n",
        "moodle de clase"
      ]
    },
    {
      "cell_type": "code",
      "metadata": {
        "id": "3SEr3GNp_h9U"
      },
      "source": [
        "%cd <https://drive.google.com/drive/folders/10y_JT85MQKYMRIwH9IVRRA68h04uct5N?usp=share_link>"
      ],
      "execution_count": null,
      "outputs": []
    },
    {
      "cell_type": "markdown",
      "metadata": {
        "id": "l-er_x1ytSqz"
      },
      "source": [
        "## Utilice estas librerías"
      ]
    },
    {
      "cell_type": "code",
      "metadata": {
        "id": "CQdOcbm1_AHX"
      },
      "source": [
        "import pandas as pd\n",
        "import numpy as np\n",
        "from sklearn import tree\n",
        "from sklearn.tree import DecisionTreeClassifier\n",
        "from sklearn.tree import export_text\n",
        "import graphviz"
      ],
      "execution_count": null,
      "outputs": []
    },
    {
      "cell_type": "markdown",
      "metadata": {
        "id": "MJdFs5hZtjnT"
      },
      "source": [
        "## Lea el fichero de datos en un DataFrame de pandas **datos**"
      ]
    },
    {
      "cell_type": "code",
      "metadata": {
        "id": "eGY2VZzOATsD"
      },
      "source": [
        "datos= pd.read_csv(\"titanic.csv\")\n",
        "datos.head()"
      ],
      "execution_count": null,
      "outputs": []
    },
    {
      "cell_type": "markdown",
      "metadata": {
        "id": "2E65IGRGtzWQ"
      },
      "source": [
        "## Investigue si hay datos erróneos o vacios con valor **Nan** y elimínelos"
      ]
    },
    {
      "cell_type": "code",
      "metadata": {
        "id": "ZHNqhdb2AiKk"
      },
      "source": [
        "X=datos[[\"Survived\", \"Pclass\", \"Age\", \"Fare\"]].dropna() #La función dropna() en Python se puede usar para eliminar valores nulos o faltantes de un DataFrame de Pandas."
      ],
      "execution_count": null,
      "outputs": []
    },
    {
      "cell_type": "code",
      "source": [
        "X.head()"
      ],
      "metadata": {
        "id": "pPUDNZLjI7EU"
      },
      "execution_count": null,
      "outputs": []
    },
    {
      "cell_type": "markdown",
      "metadata": {
        "id": "Sd_BVB7DuGK0"
      },
      "source": [
        "## Con los datos límpios cree el conjunto de datos de entrenamiento\n",
        "- **X** con las columnas 'Pclass', 'Age' y 'Fare'\n",
        "- **y** con la columna 'Survived'"
      ]
    },
    {
      "cell_type": "code",
      "metadata": {
        "id": "_6s3KsPRu3_M"
      },
      "source": [
        "y=X[\"Survived\"]\n",
        "X=X.drop([\"Survived\"], axis=1)"
      ],
      "execution_count": null,
      "outputs": []
    },
    {
      "cell_type": "markdown",
      "metadata": {
        "id": "Gkl7D6ALvM2U"
      },
      "source": [
        "## Cree el árbol de clasificación **Ad**"
      ]
    },
    {
      "cell_type": "code",
      "metadata": {
        "id": "gqPAB36GBAAU"
      },
      "source": [
        "Ad=DecisionTreeClassifier(criterion=\"gini\", max_depth=5) # Max_depth es la profundidad\n",
        "Ad=Ad.fit(X,y) "
      ],
      "execution_count": null,
      "outputs": []
    },
    {
      "cell_type": "markdown",
      "source": [
        "Con el código anterior, se ha creado un clasificador de árbol de decisiones usando la clase DecisionTreeClassifier de la biblioteca sklearn. Dicha clase tiene varios parámetros que puedes especificar al crear una instancia de la clase.\n",
        "\n",
        "Dichos parámetros son: \n",
        "\n",
        "*   El parámetro criterion se establece en \"gini\" lo que especifica la función para medir la calidad de una división. El criterio \"gini\" mide la impureza Gini de una división, que es una medida de cuántas veces un elemento elegido al azar del conjunto sería clasificado incorrectamente al ser clasificado al azar basado en la distribución de etiquetas en el subconjunto.\n",
        "*   El parámetro max_depth especifica la profundidad máxima del árbol. Esto significa que el árbol dejará de crecer una vez que la profundidad del árbol alcance el valor máximo especificado. En este caso, max_depth se establece en 5, lo que significa que el árbol no tendrá más de 5 niveles (es decir, 5 niveles de nodos desde la raíz hasta la hoja).\n",
        "\n",
        "Después de crear el objeto DecisionTreeClassifier, se llama al método fit en él para entrenar el modelo utilizando los datos de entrada X y las etiquetas y. El método fit toma los datos de entrada y las etiquetas como argumentos y entrena el modelo utilizando estos valores."
      ],
      "metadata": {
        "id": "N7toMwKXal8H"
      }
    },
    {
      "cell_type": "markdown",
      "metadata": {
        "id": "LSstHtxyvwiU"
      },
      "source": [
        "## Muestre árbol obtenido en forma de texto."
      ]
    },
    {
      "cell_type": "markdown",
      "source": [
        "Con el siguiente código se exportará el contenido de un árbol de decisión a texto. La función **export_text** toma dos argumentos: el árbol de decisión (que se almacena en la variable \"Ad\") y una lista de nombres de características (que se obtiene a partir de las columnas del dataframe \"X\").\n",
        "\n",
        "La función export_text devuelve una cadena de texto que contiene la representación del árbol de decisión en formato de texto plano. Esta representación incluye la estructura del árbol y las reglas de decisión que se han utilizado para construir el árbol.\n",
        "\n",
        "Una vez que se ha llamado a la función export_text, el resultado se almacena en la variable \"r\" y luego se imprime utilizando la función \"print\"."
      ],
      "metadata": {
        "id": "OdrOSEiqZC3l"
      }
    },
    {
      "cell_type": "code",
      "metadata": {
        "id": "SfcKqf_CwrSp"
      },
      "source": [
        "r = export_text(Ad, feature_names=list(X.columns))\n",
        "print(r)"
      ],
      "execution_count": null,
      "outputs": []
    },
    {
      "cell_type": "markdown",
      "metadata": {
        "id": "ALl23aaTvgm3"
      },
      "source": [
        "## Exporte el árbol obtenido a un fichero **titanic.pdf**\n",
        "Utilize la libreria graphviz"
      ]
    },
    {
      "cell_type": "code",
      "metadata": {
        "id": "lbgWkRWT0sY6"
      },
      "source": [
        "dot_data = tree.export_graphviz(Ad, out_file=None)\n",
        "graph = graphviz.Source(dot_data) #dot_data es el árbol puesto en gráfico\n",
        "graph.render(\"Titanic\") #pintar como pdf, poniendo el nombre Titanic"
      ],
      "execution_count": null,
      "outputs": []
    },
    {
      "cell_type": "markdown",
      "source": [
        "Significado de los nodos = \n",
        "\n",
        "*   X[ ] este parametro debe ser menor que 2.5 este es la primera columna del data.frame (en nuestro caso es la clase).\n",
        "*   Gini: Gini es una medida de desigualdad en un conjunto de datos. Se utiliza a menudo para evaluar la distribución de una variable en un conjunto de datos.\n",
        "*   Samples: ejemplos\n",
        "*   Value: valores que lo cumplen, valores que no la cumplen.\n",
        "\n"
      ],
      "metadata": {
        "id": "lRjsKsfkLVLf"
      }
    },
    {
      "cell_type": "markdown",
      "metadata": {
        "id": "_JZCZYsIwAlP"
      },
      "source": [
        "## Muestre de forma enriquecida el árbol obtenido\n",
        "Utilize la libreria graphviz"
      ]
    },
    {
      "cell_type": "markdown",
      "source": [
        "Dicha función puede tomar varios parámetros:\n",
        "\n",
        "*   Ad: el modelo de árbol de decisiones que se visualizará.\n",
        "*   out_file: especifica el nombre del archivo al que se guardará el gráfico. Si se establece en None, el gráfico no se guardará en un archivo y se devolverá como una cadena.\n",
        "*   feature_names: una lista de los nombres de las características en los datos utilizados para entrenar el modelo.\n",
        "*   class_names: una lista de los nombres de las clases en la variable objetivo.\n",
        "*   filled: si se establece en True, los nodos del gráfico se colorearán para indicar la clase predicha.\n",
        "*   rounded: si se establece en True, los vértices de los nodos del gráfico tendrán forma redonda.\n",
        "*  special_characters: si se establece en True, los caracteres especiales en los nombres de las características se escaparán.\n",
        "\n"
      ],
      "metadata": {
        "id": "u_MYjNOwb7Vo"
      }
    },
    {
      "cell_type": "code",
      "metadata": {
        "id": "nesxEUls1PFr"
      },
      "source": [
        "dot_data = tree.export_graphviz(Ad, out_file=None,\n",
        "                  feature_names=X.columns,\n",
        "                  class_names=[\"0\",\"1\"],\n",
        "                  filled=True, rounded=True,\n",
        "                  special_characters=True)\n",
        "\n",
        "graph = graphviz.Source(dot_data)\n",
        "graph"
      ],
      "execution_count": null,
      "outputs": []
    },
    {
      "cell_type": "markdown",
      "source": [
        "Indicadores:\n",
        "*   Azul se salva completamente.\n",
        "*   Marron no se salva.\n",
        "*   Los anaranjados hay mas que no se salvan pero tambien existen que se salvan.\n",
        "*   Azul clarito hay mas que se salvan pero tambien existen que no se salvan.\n",
        "\n"
      ],
      "metadata": {
        "id": "K7KBwRI7MoK9"
      }
    },
    {
      "cell_type": "markdown",
      "metadata": {
        "id": "YNShCpe2xv3Y"
      },
      "source": [
        "## ¿Que característas son las más influyentes o decisivas?"
      ]
    },
    {
      "cell_type": "markdown",
      "source": [
        "Comprobamos el árbol de decisión:"
      ],
      "metadata": {
        "id": "JXNmA8-0XDkv"
      }
    },
    {
      "cell_type": "code",
      "metadata": {
        "id": "uVh7iayPx78J"
      },
      "source": [
        "l=list(zip(list(X.columns),Ad.feature_importances_))\n",
        "print(l)"
      ],
      "execution_count": null,
      "outputs": []
    },
    {
      "cell_type": "markdown",
      "source": [
        "Las características más influyentes son: \n",
        "\n",
        "*   Las más influyente son las Pclass. \n",
        "*   Para sobrevivir tenia que estar en clase alta y ademas tenia que ser mujer y de elevada edad.\n",
        "\n"
      ],
      "metadata": {
        "id": "rKKZZTBRNMbD"
      }
    },
    {
      "cell_type": "markdown",
      "metadata": {
        "id": "CgfWp0MWz1og"
      },
      "source": [
        "## Realiza alguna inferencia.\n",
        "Que propone para las filas 5 y 80 del Titanic.csv"
      ]
    },
    {
      "cell_type": "markdown",
      "source": [
        "La inferencia es el proceso de utilizar datos o información para sacar conclusiones o hacer predicciones. En Python, hay varias formas de realizar inferencia utilizando diferentes técnicas y algoritmos de aprendizaje automático. \n",
        "\n",
        "Para realizar inferencia en Python, necesitará tener un conjunto de datos y un modelo de aprendizaje automático entrenado. A continuación, puede utilizar el modelo para hacer predicciones sobre nuevos datos o para evaluar su rendimiento en el conjunto de datos de entrenamiento."
      ],
      "metadata": {
        "id": "FkdYW5KUYiXd"
      }
    },
    {
      "cell_type": "code",
      "metadata": {
        "id": "KtkKlHRM1fzI"
      },
      "source": [
        "X.iloc[[5,80]]"
      ],
      "execution_count": null,
      "outputs": []
    },
    {
      "cell_type": "markdown",
      "source": [
        "¿Que le pasa al individuo de la fila 5,80?"
      ],
      "metadata": {
        "id": "LgZTe0RyNhf6"
      }
    },
    {
      "cell_type": "code",
      "source": [
        "Ad.predict(X.iloc[[5,80]].values)"
      ],
      "metadata": {
        "id": "Z20s3zfTNoQ5"
      },
      "execution_count": null,
      "outputs": []
    }
  ]
}